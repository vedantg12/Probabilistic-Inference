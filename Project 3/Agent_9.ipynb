{
 "cells": [
  {
   "cell_type": "code",
   "execution_count": 1,
   "id": "2241977f",
   "metadata": {
    "id": "9a48e643"
   },
   "outputs": [],
   "source": [
    "import random\n",
    "import numpy as np\n",
    "from tqdm import tqdm\n",
    "import matplotlib.pyplot as plt\n",
    "import math\n",
    "import time\n",
    "from sortedcontainers import SortedSet # Used for fringe in A star\n",
    "import queue\n",
    "from collections import deque \n",
    "import seaborn as sns\n",
    "import pandas as pd\n",
    "import pickle"
   ]
  },
  {
   "cell_type": "code",
   "execution_count": 2,
   "id": "a4f63621",
   "metadata": {
    "id": "f40ea0c0"
   },
   "outputs": [],
   "source": [
    "# Class cell -> its the class of all the nodes in the grid, Each cell of the grid is defined as a object of type \n",
    "# cell.\n",
    "class cell:\n",
    "    def __init__(self,x,y): # Constructor for class cell\n",
    "        self.x = x # x coordinate of the cell\n",
    "        self.y = y # y coordinate of the cell\n",
    "        self.g = 0 # g value of the cell (the distance from start cell to curr cell)\n",
    "        self.h = 0 # h value of the cell (estimated value of the distance between curr cell and goal cell)\n",
    "        self.f = 0 # f value of the cell (f = g+h in A*, defines the priority of a node)\n",
    "        self.blocked = False # Flag used to tell weather a cell is blocked or not\n",
    "        self.terrain = None # If the cell is unblocked this flag stores the terrain type of the cell it is either of hilly, flat or forest.\n",
    "        self.false_neg_rate = 0 # Depending on the terrain this variable stores the false negative rate of the cell\n",
    "        self.prob_of_containing_target = 0 # This variable stores the probability of the cell x,y containing the target\n",
    "        \n",
    "    def set_h_value(self, g_x, g_y, heuristic, weight):\n",
    "        '''This function is used to assign the heuristic value i.e. the h value and the f value to the calling \n",
    "           class object. It takes in the argument g_x = goal cell abscissa, g_y = goal cell ordinate, \n",
    "           heuristic = It defines the type of heuristic the A* problem is using, weight = this is for problem \n",
    "           number 9 (project 1) where we test the effect of weights on the performance of repeated A* and normal A*.\n",
    "           In this project we have only used the manhattan distance as our heuristic.'''\n",
    "        if heuristic == 'm': \n",
    "            # Manhattan distance\n",
    "            self.h = weight * abs(g_x - self.x) + abs(g_y - self.y) # calculate the h value\n",
    "            self.f = self.g + self.h # also updating f inside this function"
   ]
  },
  {
   "cell_type": "code",
   "execution_count": 3,
   "id": "149b8d74",
   "metadata": {
    "id": "33d8c032"
   },
   "outputs": [],
   "source": [
    "# Class grid_world -> This class is used to generate a grid world of dimension dim with each cell having \n",
    "# probability p of being blocked.\n",
    "class grid_world:\n",
    "    def __init__(self,p,dim):\n",
    "        self.p = p # probability with which the cell is blocked\n",
    "        self.dim = dim # dimension of the grid (dim x dim)\n",
    "    def gen_grid(self,matrix):\n",
    "        '''This function is used to generate the grid. The grid is returned in the form of list of list.'''\n",
    "        for i in range(self.dim): # looping over the dimension to generate rows of cells\n",
    "            a = [] # store a row of the grid of len dim\n",
    "            for j in range(self.dim): # looping over the dim to generate cols of cells\n",
    "                c = cell(i,j) # cell for coordinates (i,j)\n",
    "                chance = random.uniform(0,1) \n",
    "                # generating a random number between 0 and 1 from uniform distribution, if its less than p \n",
    "                # the cell is blocked else the cell is unblocked.\n",
    "                # if the number generated is less than or equal to p, block the cell.\n",
    "                if(chance <= self.p):\n",
    "                    c.blocked = True\n",
    "                else:\n",
    "                    # If the cell is unblocked and you are not making the bot_env or the final_disc_gridworld assign the terrain type to the cell.\n",
    "                    if(self.p!= 1 and self.p!= 0):\n",
    "                        # To assign the terrain type randomly generate a integer in the range [1,3] and assign terrain corresponding to that number.\n",
    "                        x = random.randint(1,3) # We use random.randint as there is a equally likely possibility of all three integers coming\n",
    "                        if(x==1): # If the number is 1 assign terrain flat and false negative rate as 0.2.\n",
    "                            c.terrain = 'flat' \n",
    "                            c.false_neg_rate = 0.2\n",
    "                        elif x == 2: # If the number is 2 assign terrain hill and false negative rate as 0.5\n",
    "                            c.terrain = 'hill'\n",
    "                            c.false_neg_rate = 0.5\n",
    "                        else: # If the number is 3 assign terrain forest and false negative rate as 0.8\n",
    "                            c.terrain = 'Forest'\n",
    "                            c.false_neg_rate = 0.8\n",
    "                    \n",
    "                a.append(c) # append the cell to the row\n",
    "                \n",
    "            matrix.append(a) # append the row to the grid\n",
    "        if(self.p!= 1 and self.p!= 0): # If the grid we are generating is the real world grid\n",
    "            while(True): # keep randomly choosing start cell and goal cell indices until both lie on unblocked cells.\n",
    "                start_cell_x = random.randint(0,self.dim-1) # randomly select x coordinate of start cell\n",
    "                start_cell_y = random.randint(0,self.dim-1) # randomly select y coordinate of start cell\n",
    "\n",
    "                if matrix[start_cell_x][start_cell_y].blocked == True: # If the selected coordinate is blocked continue \n",
    "                    # and reselect the start cell coordinate\n",
    "                    continue\n",
    "\n",
    "                target_x = random.randint(0,self.dim-1) # Select the x coordinate of target cell\n",
    "                target_y = random.randint(0,self.dim-1) # Select the y coordinate of target cell\n",
    "\n",
    "                if matrix[target_x][target_y].blocked == True: # If the selected coordinate is blocked continue.\n",
    "                    continue\n",
    "\n",
    "                break # If both the index lie on unblocked cells break the loop.\n",
    "        \n",
    "            return matrix, (start_cell_x, start_cell_y), (target_x, target_y) # return the final grid, start cell index and goal cell index in case of real_world_grid\n",
    "        else:\n",
    "            return matrix # Simply return the grid in case of bot_env and final_disc_gridworld."
   ]
  },
  {
   "cell_type": "code",
   "execution_count": 4,
   "id": "6ab0eed7",
   "metadata": {
    "id": "5b4d945a"
   },
   "outputs": [],
   "source": [
    "def gen_env(p, dim):\n",
    "    '''Function to generate the enviornment with probability of blockage p and dimension = dim x dim'''\n",
    "    temp = grid_world(p, dim)\n",
    "    if (p!= 1 and p!= 0):\n",
    "        grid, start_cell_ind, target_ind = temp.gen_grid([])\n",
    "        return grid, start_cell_ind, target_ind\n",
    "    else:\n",
    "        grid = temp.gen_grid([])\n",
    "        return grid"
   ]
  },
  {
   "cell_type": "code",
   "execution_count": 5,
   "id": "20021f91",
   "metadata": {
    "id": "250ca454"
   },
   "outputs": [],
   "source": [
    "def disp_grid(grid):\n",
    "    '''Since our grid is a list of list of cells simply printing it does not work. This function prints the \n",
    "    grid with blockage as x and a cell on which we can travel as -'''\n",
    "    l = []\n",
    "    for i in range(len(grid)):\n",
    "        a = []\n",
    "        for j in range(len(grid)):\n",
    "            if grid[i][j].blocked:\n",
    "                a.append('x')\n",
    "            else:\n",
    "                a.append('-')\n",
    "        l.append(a)\n",
    "    return l"
   ]
  },
  {
   "cell_type": "code",
   "execution_count": 6,
   "id": "0305c0fc",
   "metadata": {
    "id": "cba053c9"
   },
   "outputs": [],
   "source": [
    "def find_target_in_goal_cell(grid,cell_x,cell_y,target_cell):\n",
    "    if((cell_x, cell_y) == target_cell):\n",
    "        chance = random.uniform(0,1)\n",
    "        if chance <= grid[cell_x][cell_y].false_neg_rate:\n",
    "            return False\n",
    "        else:\n",
    "            return True\n",
    "    else:\n",
    "        return False"
   ]
  },
  {
   "cell_type": "code",
   "execution_count": 7,
   "id": "f2e127aa",
   "metadata": {
    "id": "88b2727d"
   },
   "outputs": [],
   "source": [
    "#function to print path\n",
    "def print_path(paths, start_cell_ind):\n",
    "    '''\n",
    "    Function to print the path also we use it to get the final trajectory with backtracking taken by the agent. \n",
    "    '''\n",
    "    l = [list(start_cell_ind)] # start from [0,0]\n",
    "    for path in paths: \n",
    "        l.extend(path[1:]) # extend the list with values of path \n",
    "    return l"
   ]
  },
  {
   "cell_type": "code",
   "execution_count": 8,
   "id": "61aeb739",
   "metadata": {
    "id": "df5f03b3"
   },
   "outputs": [],
   "source": [
    "def is_solvable(grid,start_cell_ind,target_ind):\n",
    "    '''Function to check the solvability of the grid.'''\n",
    "    p = Astar(real_world_grid,start_cell_ind,target_ind,'m')\n",
    "    if p[0] == []:\n",
    "        return False\n",
    "    else:\n",
    "        return True"
   ]
  },
  {
   "cell_type": "code",
   "execution_count": 9,
   "id": "8e9575a3",
   "metadata": {
    "id": "50d580c9"
   },
   "outputs": [],
   "source": [
    "def Astar(grid,start_cell_ind,goal_cell_ind, heuristic, weight = 1):\n",
    "    cells_processed = 0 # number of cells popped from the fringe before reaching the goal.\n",
    "    number_of_clashes = 0 # number of time we had to update priorities in the fringe.\n",
    "    start_cell = grid[start_cell_ind[0]][start_cell_ind[1]] # start cell of our grid.\n",
    "    goal_cell = grid[goal_cell_ind[0]][goal_cell_ind[1]] # goal cell of our grid\n",
    "    open_list = SortedSet() # fringe, we have used sorted set as our priority queue\n",
    "    close_list = set() # contains cells already processed, have used set for this purpose (O(1) lookup on average)\n",
    "    parent_dict = {} # stores parent child relationship, using dictionary for this\n",
    "    visited = set() # child already visited, using set for this purpose (O(1) lookup on average)\n",
    "    start_cell.g = 0 # Setting the g value of the start cell to 0\n",
    "    # setting the h and f value of the start cell using the weight and heuristic passed in the function arguments.\n",
    "    # weight is for q9\n",
    "    start_cell.set_h_value(goal_cell_ind[0], goal_cell_ind[1], heuristic, weight)\n",
    "    open_list.add((start_cell.f, start_cell.h, (start_cell.x, start_cell.y))) # adding the start cell to the priority queue\n",
    "    # In the queue we are pushing a tuple whose first coordinate is the f value, second coordinate is the h value \n",
    "    # then a tuple containing the location of the cell. The priority is set according to the f value in case of a \n",
    "    # tie h value is seen.\n",
    "    visited.add((start_cell.x, start_cell.y)) # updating the visited set as we are pushing the node in priority queue\n",
    "    while len(open_list)>0: # loop over the priority queue until it is not empty or we reach the goal node\n",
    "        cl = open_list.pop(0) # pop the node with the least priority (it is at index 0 in the sorted set)\n",
    "        curr_cell = grid[cl[-1][0]][cl[-1][1]] # the last index in cl contains the x and y coordinates, \n",
    "        # storing the node popped from the queue in curr_cell.\n",
    "        cells_processed += 1 # incrementing the number of cells processed (since we just popped from the queue)\n",
    "        close_list.add((curr_cell.x, curr_cell.y)) # adding the node to the closed list as it is about to be processed\n",
    "        if curr_cell == goal_cell: \n",
    "            # If the curr cell is the goal cell return the path from the curr cell to goal cell by backtracking \n",
    "            # from goal cell to curr cell using the parent dictionary as well as all the nodes \n",
    "            # that have been processed uptil now.\n",
    "            path = []\n",
    "            curr = curr_cell\n",
    "            while (curr.x, curr.y) != (start_cell_ind[0], start_cell_ind[1]):\n",
    "                path.append([curr.x, curr.y])\n",
    "                curr = parent_dict[(curr.x, curr.y)]\n",
    "            path.append([curr.x,curr.y])\n",
    "            return path[::-1], cells_processed, number_of_clashes\n",
    "        \n",
    "        children = [] # This list is used to store all the possible valid children of the cell \n",
    "        # currently being processed.\n",
    "        for new_pos in [(0,1),(0,-1),(1,0),(-1,0)]: # 4 main compass directions, field of view also the agent can \n",
    "            # only move to these locations\n",
    "            node_pos = (curr_cell.x+new_pos[0], curr_cell.y+new_pos[1]) # position of the child\n",
    "            if(node_pos[0] > len(grid)-1 or node_pos[1] > len(grid)-1 or node_pos[0] < 0 or node_pos[1] < 0):\n",
    "                # if the child is not part of the grid continue\n",
    "                continue\n",
    "            if(grid[node_pos[0]][node_pos[1]].blocked):\n",
    "                # if the child is blocked continue\n",
    "                continue\n",
    "            if((node_pos[0], node_pos[1]) in close_list):\n",
    "                # if child is in close list continue\n",
    "                continue\n",
    "            if((node_pos[0], node_pos[1]) in visited):\n",
    "                # if the child is already visited then compare the previous cost(f) to the new cost(f) and if the\n",
    "                # new cost is lower update the priority of the child in the priority queue, update the \n",
    "                # parent dictionary and update the g value of the node.\n",
    "                if curr_cell.g + 1 + grid[node_pos[0]][node_pos[1]].h < grid[node_pos[0]][node_pos[1]].f:\n",
    "                    number_of_clashes += 1 # increment the number of clashes by 1\n",
    "                    # To update the priority we remove the node from the sorted set (O(logn)) and reinsert with \n",
    "                    # new priority O(log(n)). \n",
    "                    open_list.remove((grid[node_pos[0]][node_pos[1]].f, grid[node_pos[0]][node_pos[1]].h, (grid[node_pos[0]][node_pos[1]].x, grid[node_pos[0]][node_pos[1]].y)))\n",
    "                    grid[node_pos[0]][node_pos[1]].g = curr_cell.g+1\n",
    "                    grid[node_pos[0]][node_pos[1]].set_h_value(goal_cell_ind[0], goal_cell_ind[1], heuristic, weight)\n",
    "                    open_list.add((grid[node_pos[0]][node_pos[1]].f, grid[node_pos[0]][node_pos[1]].h, (grid[node_pos[0]][node_pos[1]].x, grid[node_pos[0]][node_pos[1]].y)))\n",
    "                    parent_dict[(node_pos[0],node_pos[1])] = curr_cell # updating the parent dictionary\n",
    "            else:\n",
    "                # If the child is not visited update its g value, set its h and f value and add it to the \n",
    "                # children list after updating its parent.\n",
    "                grid[node_pos[0]][node_pos[1]].g = curr_cell.g + 1\n",
    "                grid[node_pos[0]][node_pos[1]].set_h_value(goal_cell_ind[0], goal_cell_ind[1], heuristic, weight)\n",
    "                children.append(grid[node_pos[0]][node_pos[1]])\n",
    "                parent_dict[(node_pos[0],node_pos[1])] = curr_cell\n",
    "        if(children == []): # If no valid child continue\n",
    "            continue\n",
    "        for child in children: # else if valid children exist add them to the open list and update the visited set.\n",
    "            open_list.add((child.f,child.h, (child.x, child.y)))\n",
    "            visited.add((child.x, child.y))\n",
    "    \n",
    "    return [], 0, 0"
   ]
  },
  {
   "cell_type": "markdown",
   "id": "da6ef567",
   "metadata": {
    "id": "3f08b9b2"
   },
   "source": [
    "### Agent 9"
   ]
  },
  {
   "cell_type": "code",
   "execution_count": 10,
   "id": "c5fc6775",
   "metadata": {
    "id": "8e61e86c"
   },
   "outputs": [],
   "source": [
    "# function to implement the A* algorithm\n",
    "def repeated_astar_agent9(bot_env, real_world_grid, start_cell_ind,target_cell_ind, heuristic, final_discovered_grid_world, weight=1):\n",
    "    '''\n",
    "    This function is the implementation of the repeated A* algorithm. This function calls A* algorithm whenver a \n",
    "    blocked cell is encountered along the path returned by A*.\n",
    "    '''\n",
    "    count = 0\n",
    "    paths = [] # stores the path to be returned.\n",
    "    cp = 0  # keeps count of the total number of cells processed in each A* call.\n",
    "    #while the A* algorithm doesn't return a path or the maze is found to be not solvable     \n",
    "    planning_time = 0\n",
    "    track_states = []\n",
    "    nodes_disc = 0\n",
    "    belief = gen_initial_belief_matrix(len(bot_env))\n",
    "    candidate_targets = choose_next_goal_cell_agent9(bot_env, start_cell_ind[0], start_cell_ind[1], belief)\n",
    "    tar_ind = random.choice(candidate_targets)\n",
    "    goal_cell_ind = tar_ind\n",
    "    examine_cost = 0\n",
    "    movement_cost = 0\n",
    "    do_not_move = False\n",
    "    sensed = False\n",
    "    prev_start_cell_ind = start_cell_ind\n",
    "    while(1):\n",
    "        count += 1\n",
    "        if(count != 1):\n",
    "            if do_not_move:\n",
    "                do_not_move = False\n",
    "            else:\n",
    "                target_cell_ind = move_target(real_world_grid,target_cell_ind[0], target_cell_ind[1])\n",
    "        track_states.append((start_cell_ind, goal_cell_ind))\n",
    "        if(len(track_states)>=20):\n",
    "            flag = True\n",
    "            for i in range(len(track_states)-2):\n",
    "                if(track_states[i] != track_states[i+2]):\n",
    "                    flag = False\n",
    "            if(flag):\n",
    "#             if(track_states[-1] == track_states[-3] and track_states[-2] == track_states[-4]):\n",
    "                start_cell_ind = move_agent_randomly(start_cell_ind)\n",
    "                movement_cost += 1\n",
    "                target_cell_ind = move_target(real_world_grid, target_cell_ind[0], target_cell_ind[1])\n",
    "                continue\n",
    "            track_states =[]\n",
    "        t = time.time()\n",
    "        path, cells_processed, n_c = Astar(bot_env, start_cell_ind, goal_cell_ind, heuristic, weight) # call A* with current knowledge of the grid\n",
    "        planning_time += time.time() - t\n",
    "        cp += cells_processed # add the number of cells processed to the variable cp which keeps the total number of cells processed for each iteration of A*\n",
    "        \n",
    "        if(path == []): # If A* doesn't return a path, path doesn't exist. Break from the loop and print \"Maze is not solvable\"\n",
    "            bot_env[goal_cell_ind[0]][goal_cell_ind[1]].blocked = True\n",
    "            bot_env[goal_cell_ind[0]][goal_cell_ind[1]].terrain = None\n",
    "            bot_env[goal_cell_ind[0]][goal_cell_ind[1]].false_neg_rate = 0\n",
    "            \n",
    "            assign_new_probability_when_new_block_disc_agent9(bot_env,belief,goal_cell_ind[0],goal_cell_ind[1])\n",
    "            candidate_targets = choose_next_goal_cell_agent9(bot_env,start_cell_ind[0],start_cell_ind[1], belief)\n",
    "            tar_ind = random.choice(candidate_targets)\n",
    "            goal_cell_ind = tar_ind\n",
    "            do_not_move = True\n",
    "            continue\n",
    "            \n",
    "        else:  # If path exists, do this:\n",
    "            params = explore_path_with_limited_view_agent9(path,bot_env,real_world_grid,examine_cost,target_cell_ind, movement_cost, belief, prev_start_cell_ind)\n",
    "            p = params[0]\n",
    "            paths.append(p)  # append the path returned to paths  \n",
    "            \n",
    "            belief = params[-2]\n",
    "            sensed = params[-3]\n",
    "            prev_start_cell_ind = params[-1]\n",
    "            \n",
    "            if (params[1] == True):\n",
    "                start_cell_ind = prev_start_cell_ind\n",
    "            else:\n",
    "                start_cell_ind = p[-1]\n",
    "            goal_cell_ind = params[2]\n",
    "            examine_cost = params[3]\n",
    "            if sensed == False and params[1] == False:\n",
    "                movement_cost = params[4]\n",
    "                \n",
    "            if sensed == True:\n",
    "                while(sense_target(target_cell_ind, start_cell_ind)):\n",
    "                    target_cell_ind = move_target(real_world_grid, target_cell_ind[0], target_cell_ind[1])\n",
    "                    continue\n",
    "                examine_cost += 1\n",
    "                if(find_target_in_goal_cell(bot_env, start_cell_ind[0], start_cell_ind[1], target_cell_ind)):\n",
    "                    return paths, examine_cost, movement_cost\n",
    "                else:\n",
    "                    sensed = False\n",
    "                    do_not_move = True\n",
    "                    belief = predict_one_step(bot_env, belief)\n",
    "                    candidate_targets = choose_next_goal_cell_agent9(bot_env,start_cell_ind[0],start_cell_ind[1], belief)\n",
    "                    tar_ind = random.choice(candidate_targets)\n",
    "                    new_goal_cell = tar_ind"
   ]
  },
  {
   "cell_type": "code",
   "execution_count": 11,
   "id": "9dc8ba67",
   "metadata": {
    "id": "0e9bdea4"
   },
   "outputs": [],
   "source": [
    "#function to explore path returned by A* algorithm with limited field of view (the bot can only see in the direction of its movement along the path). \n",
    "def explore_path_with_limited_view_agent9(path, bot_env, grid, examine_cost, target_cell_ind, movement_cost, belief, previous_start_cell):\n",
    "    '''\n",
    "    This function helps move the agent along the path returned by A* with unidirectional field of view. The bot environment\n",
    "    and final discovered grid world are updated with status of cells along the path traversed.\n",
    "    '''\n",
    "    x = 0\n",
    "    y = 0\n",
    "    sensed = False\n",
    "    for i in range(len(path)): #looping over path list                \n",
    "        x = path[i][0] # x coordinate of the current node\n",
    "        y = path[i][1] # y coordinate of the current node\n",
    "        movement_cost += 1\n",
    "        #update the bot environment and final discovered grid \n",
    "        bot_env[x][y].x = grid[x][y].x \n",
    "        bot_env[x][y].y = grid[x][y].y\n",
    "        bot_env[x][y].blocked = grid[x][y].blocked\n",
    "        bot_env[x][y].terrain = grid[x][y].terrain\n",
    "        bot_env[x][y].false_neg_rate = grid[x][y].false_neg_rate\n",
    "        \n",
    "        if(grid[x][y].blocked): #if the current node is blocked node, return the path traversed till now.\n",
    "            movement_cost -= 1\n",
    "            belief = assign_new_probability_when_new_block_disc_agent9(bot_env,belief,x,y)\n",
    "            candidate_targets = choose_next_goal_cell_agent9(bot_env,path[i-1][0],path[i-1][1], belief)\n",
    "            tar_ind = random.choice(candidate_targets)\n",
    "            new_goal_cell = tar_ind\n",
    "            return path[:i], True ,new_goal_cell, examine_cost, movement_cost, sensed, belief, previous_start_cell\n",
    "    \n",
    "        if(sense_target(target_cell_ind, (x,y)) == False):\n",
    "            belief = update_prob(bot_env, belief, False, (x,y))\n",
    "            predict = predict_one_step(bot_env, belief)\n",
    "            belief = predict\n",
    "            candidate_targets = choose_next_goal_cell_agent9(bot_env,path[i][0],path[i][1], belief)\n",
    "            tar_ind = random.choice(candidate_targets)\n",
    "            new_goal_cell = tar_ind\n",
    "            sensed = False\n",
    "            return path[:i+2], False ,new_goal_cell, examine_cost, movement_cost, sensed, belief, path[:i+1][0]\n",
    "            \n",
    "        else:\n",
    "            belief = update_prob(bot_env, belief, True, (x,y))\n",
    "            predict = predict_one_step(bot_env, belief)\n",
    "            belief = predict\n",
    "            candidate_targets = choose_next_goal_cell_agent9(bot_env,path[i][0],path[i][1], belief)\n",
    "            tar_ind = random.choice(candidate_targets)\n",
    "            new_goal_cell = tar_ind\n",
    "            sensed = True\n",
    "            return path[:i+1], False ,new_goal_cell, examine_cost, movement_cost, sensed, belief, previous_start_cell"
   ]
  },
  {
   "cell_type": "code",
   "execution_count": 12,
   "id": "cc5c3664",
   "metadata": {},
   "outputs": [],
   "source": [
    "def move_agent_randomly(start_cell_ind):\n",
    "    node_pos = [(-1,0), (0,-1), (1,0), (0,1)]\n",
    "    children = []\n",
    "    for i in node_pos:\n",
    "        x_idx = start_cell_ind[0]+i[0]\n",
    "        y_idx = start_cell_ind[1]+i[1]\n",
    "        if(x_idx<len(real_world_grid) and x_idx>=0 and y_idx<len(real_world_grid) and y_idx>=0):\n",
    "            if(real_world_grid[x_idx][y_idx].blocked == False):\n",
    "                children.append((x_idx, y_idx))\n",
    "    idx = random.randint(0, len(children)-1)\n",
    "    return children[idx]"
   ]
  },
  {
   "cell_type": "code",
   "execution_count": 13,
   "id": "1f3c9411",
   "metadata": {
    "id": "55f99731"
   },
   "outputs": [],
   "source": [
    "def assign_new_probability_when_new_block_disc_agent9(grid,belief, cell_x, cell_y):\n",
    "    prob_of_containing_x_y = belief[cell_x][cell_y]\n",
    "    den = 0\n",
    "    \n",
    "    for i in range(len(grid)):\n",
    "        for j in range(len(grid)):\n",
    "            if(grid[i][j].blocked):\n",
    "                continue\n",
    "            if(i==cell_x and j == cell_y):\n",
    "                continue\n",
    "            else:\n",
    "                den += belief[i][j]\n",
    "    \n",
    "    for i in range(len(grid)):\n",
    "        for j in range(len(grid[i])):\n",
    "            if (i== cell_x and j== cell_y):\n",
    "                belief[i][j] = 0\n",
    "            else:\n",
    "                if(grid[i][j].blocked):\n",
    "                    continue\n",
    "                else:\n",
    "                    belief[i][j]= belief[i][j]/den\n",
    "    return belief"
   ]
  },
  {
   "cell_type": "code",
   "execution_count": 14,
   "id": "cd5a189e",
   "metadata": {
    "id": "9bc9098c"
   },
   "outputs": [],
   "source": [
    "def choose_next_goal_cell_agent9(grid, cell_x, cell_y, belief):\n",
    "    min_dist = math.inf\n",
    "    target = []\n",
    "    max_utility = 0\n",
    "    max_utility_ind = []\n",
    "    max_dist = 200\n",
    "    \n",
    "    for i in range(len(grid)):\n",
    "        for j in range(len(grid[i])):\n",
    "            if(i==cell_x and j == cell_y):\n",
    "                continue\n",
    "            p = belief[i][j]\n",
    "            FN = grid[i][j].false_neg_rate\n",
    "            dist = abs(cell_x - i) + abs(cell_y - j)\n",
    "            if p*(1-FN)*max_dist/dist > max_utility:\n",
    "                max_utility = p*(1-FN)*max_dist/dist\n",
    "                max_utility_ind = [[i,j]]\n",
    "            elif p*(1-FN)*max_dist/dist == max_utility:\n",
    "                max_utility_ind.append([i,j])    \n",
    "\n",
    "    for l in max_utility_ind:\n",
    "        if abs(cell_x - l[0]) + abs(cell_y - l[1]) < min_dist:\n",
    "            min_dist = abs(cell_x - l[0]) + abs(cell_y - l[1])\n",
    "            target = [l]\n",
    "        elif abs(cell_x - l[0]) + abs(cell_y - l[1]) == min_dist:\n",
    "            target.append(l)\n",
    "    return target"
   ]
  },
  {
   "cell_type": "code",
   "execution_count": 15,
   "id": "81c254c5",
   "metadata": {
    "id": "aa38b99b"
   },
   "outputs": [],
   "source": [
    "def move_target(real_world_grid, x, y):\n",
    "    node_pos = [(-1,0), (0,-1), (1,0), (0,1)]\n",
    "    children = []\n",
    "    for i in node_pos:\n",
    "        x_idx = x+i[0]\n",
    "        y_idx = y+i[1]\n",
    "        if(x+i[0]<len(real_world_grid) and x+i[0]>=0 and y+i[1]<len(real_world_grid) and y+i[1]>=0):\n",
    "            if(real_world_grid[x_idx][y_idx].blocked == False):\n",
    "                children.append((x+i[0], y+i[1]))\n",
    "    idx = random.randint(0, len(children)-1)\n",
    "    return children[idx]"
   ]
  },
  {
   "cell_type": "code",
   "execution_count": 16,
   "id": "abd70322",
   "metadata": {
    "id": "9e26f866"
   },
   "outputs": [],
   "source": [
    "def sense_target(target, agent):\n",
    "    if(abs(target[0]-agent[0])<=1 and abs(target[1]-agent[1])<=1 and target!=agent):\n",
    "        if(abs(target[0]-agent[0])==0 and abs(target[1]-agent[1])==0):\n",
    "            return False\n",
    "        return True\n",
    "    return False"
   ]
  },
  {
   "cell_type": "code",
   "execution_count": 17,
   "id": "40c07e93",
   "metadata": {
    "id": "e2455600"
   },
   "outputs": [],
   "source": [
    "def gen_initial_belief_matrix(dim):\n",
    "    belief = []\n",
    "    for i in range(dim):\n",
    "        row = []\n",
    "        for j in range(dim):\n",
    "            prob = 1/(dim*dim)\n",
    "            row.append(prob)\n",
    "        belief.append(row)\n",
    "    return belief"
   ]
  },
  {
   "cell_type": "code",
   "execution_count": 18,
   "id": "094343ba",
   "metadata": {
    "id": "248e31a1"
   },
   "outputs": [],
   "source": [
    "def count_unblocked_neighbours(bot_env, pos):\n",
    "    node_pos = [(-1,0), (0,-1), (1,0), (0,1)]\n",
    "    children = []\n",
    "    cnt = 0\n",
    "    for i in node_pos:\n",
    "        x_idx = pos[0]+i[0]\n",
    "        y_idx = pos[1]+i[1]\n",
    "        if(x_idx<len(real_world_grid) and x_idx>=0 and y_idx<len(real_world_grid) and y_idx>=0):\n",
    "            if(bot_env[x_idx][y_idx].blocked == False):\n",
    "                cnt+=1\n",
    "    return cnt"
   ]
  },
  {
   "cell_type": "code",
   "execution_count": 19,
   "id": "0be6fdf9",
   "metadata": {
    "id": "0bbbf9a0"
   },
   "outputs": [],
   "source": [
    "def predict_one_step(bot_env, belief):\n",
    "    predict = []\n",
    "    for i in range(len(belief)):\n",
    "        a = []\n",
    "        for j in range(len(belief)):\n",
    "            pred = 0\n",
    "            if(bot_env[i][j].blocked):\n",
    "                a.append(pred)\n",
    "                continue\n",
    "            neighbours = [(0,1), (1,0), (0,-1), (-1,0)]\n",
    "            for node in neighbours:\n",
    "                if(node[0]+i < len(bot_env) and node[0]+i >= 0 and node[1]+j >=0 and node[1]+j < len(bot_env)):\n",
    "                    if(bot_env[node[0]+i][node[1]+j].blocked):\n",
    "                        continue\n",
    "                    neighbour = (node[0]+i, node[1]+j)\n",
    "                    num_of_unblocked = count_unblocked_neighbours(bot_env, neighbour)\n",
    "                    if (num_of_unblocked == 0):\n",
    "                        pred += 0\n",
    "                    else:\n",
    "                        pred += 1/(num_of_unblocked) * belief[neighbour[0]][neighbour[1]]\n",
    "            a.append(pred)\n",
    "        predict.append(a)\n",
    "    return predict"
   ]
  },
  {
   "cell_type": "code",
   "execution_count": 20,
   "id": "8631b30f",
   "metadata": {
    "id": "63401698"
   },
   "outputs": [],
   "source": [
    "def update_prob(bot_env, belief, in_vicinity, pos):\n",
    "    prob_total = 0\n",
    "    children = []\n",
    "    if(in_vicinity == False):\n",
    "        node_pos = [(0,1),(1,0), (0,-1), (-1,0), (1,1), (-1,-1), (1,-1), (-1,1)]\n",
    "        for node in node_pos:\n",
    "            if(node[0]+pos[0] < len(bot_env) and node[0]+pos[0] >= 0 and node[1]+pos[1] >= 0 and node[1]+pos[1] < len(bot_env) and bot_env[node[0]+pos[0]][node[1]+pos[1]].blocked == False):\n",
    "                prob_total += belief[node[0]+pos[0]][node[1]+pos[1]]\n",
    "                children.append((node[0]+pos[0], node[1]+pos[1]))\n",
    "                belief[node[0]+pos[0]][node[1]+pos[1]] = 0\n",
    "        for i in range(len(belief)):\n",
    "            for j in range(len(belief)):\n",
    "                if((i,j) not in children and bot_env[i][j].blocked == False):\n",
    "                    belief[i][j] = belief[i][j]/(1-prob_total)\n",
    "    else:\n",
    "        node_pos = [(0,1),(1,0), (0,-1), (-1,0), (1,1), (-1,-1), (1,-1), (-1,1)]\n",
    "        children = []\n",
    "        for node in node_pos:\n",
    "            if(node[0]+pos[0] < len(bot_env) and node[0]+pos[0] >= 0 and node[1]+pos[1] >= 0 and node[1]+pos[1] < len(bot_env) and bot_env[node[0]+pos[0]][node[1]+pos[1]].blocked == False):\n",
    "                children.append((node[0]+pos[0], node[1]+pos[1]))\n",
    "        number_of_children = len(children)\n",
    "        for i in range(len(belief)):\n",
    "            for j in range(len(belief)):\n",
    "                if((i,j) not in children and bot_env[i][j].blocked == False):\n",
    "                    belief[i][j] = 0\n",
    "                elif((i,j) in children):\n",
    "                    belief[i][j] = 1/number_of_children\n",
    "    return belief"
   ]
  },
  {
   "cell_type": "code",
   "execution_count": 21,
   "id": "751534eb",
   "metadata": {
    "id": "898452a6"
   },
   "outputs": [],
   "source": [
    "real_world_grid, start_cell_ind, target_ind = gen_env(0.3,50)"
   ]
  },
  {
   "cell_type": "code",
   "execution_count": 22,
   "id": "d3a4d6a1",
   "metadata": {
    "id": "9acf70a4"
   },
   "outputs": [],
   "source": [
    "real_world_grid, start_cell_ind, target_ind = gen_env(0.3,50)"
   ]
  },
  {
   "cell_type": "code",
   "execution_count": 23,
   "id": "bd212607",
   "metadata": {
    "id": "e23695cb"
   },
   "outputs": [],
   "source": [
    "bot_env = gen_env(0,50)"
   ]
  },
  {
   "cell_type": "code",
   "execution_count": 24,
   "id": "b5fe445d",
   "metadata": {
    "id": "93fce3a7"
   },
   "outputs": [],
   "source": [
    "final_discovered_gridworld = gen_env(1,50)"
   ]
  },
  {
   "cell_type": "code",
   "execution_count": 25,
   "id": "407fc47e",
   "metadata": {
    "colab": {
     "base_uri": "https://localhost:8080/"
    },
    "id": "f9574c54",
    "outputId": "630b1143-e492-459c-ac55-c76024a0cb91"
   },
   "outputs": [
    {
     "data": {
      "text/plain": [
       "(41, 46)"
      ]
     },
     "execution_count": 25,
     "metadata": {},
     "output_type": "execute_result"
    }
   ],
   "source": [
    "start_cell_ind"
   ]
  },
  {
   "cell_type": "code",
   "execution_count": 26,
   "id": "c2f1bcab",
   "metadata": {
    "colab": {
     "base_uri": "https://localhost:8080/"
    },
    "id": "fdddf5d9",
    "outputId": "a91a19bc-a803-4b6b-82c0-70856fbd7d12"
   },
   "outputs": [
    {
     "data": {
      "text/plain": [
       "(20, 42)"
      ]
     },
     "execution_count": 26,
     "metadata": {},
     "output_type": "execute_result"
    }
   ],
   "source": [
    "target_ind"
   ]
  },
  {
   "cell_type": "code",
   "execution_count": 27,
   "id": "02e598c9",
   "metadata": {
    "colab": {
     "base_uri": "https://localhost:8080/"
    },
    "id": "95468bcb",
    "outputId": "2093d5ad-fbfa-4bed-fc95-a4246f6362ed"
   },
   "outputs": [
    {
     "data": {
      "text/plain": [
       "True"
      ]
     },
     "execution_count": 27,
     "metadata": {},
     "output_type": "execute_result"
    }
   ],
   "source": [
    "is_solvable(real_world_grid,start_cell_ind,target_ind)"
   ]
  },
  {
   "cell_type": "code",
   "execution_count": 28,
   "id": "bdb31c65",
   "metadata": {
    "id": "7dc300ed"
   },
   "outputs": [],
   "source": [
    "bot_env = gen_env(0,50)"
   ]
  },
  {
   "cell_type": "code",
   "execution_count": 29,
   "id": "21e35c96",
   "metadata": {
    "id": "36b0096e"
   },
   "outputs": [],
   "source": [
    "final_discovered_gridworld = gen_env(1,50)"
   ]
  },
  {
   "cell_type": "code",
   "execution_count": 30,
   "id": "4f01f5d1",
   "metadata": {},
   "outputs": [
    {
     "name": "stderr",
     "output_type": "stream",
     "text": [
      "100%|██████████| 100/100 [1:35:26<00:00, 57.27s/it]  \n"
     ]
    }
   ],
   "source": [
    "count = 0\n",
    "cost_agent_9 = []\n",
    "movement_cost_agent_9 = []\n",
    "examination_cost_agent_9 = []\n",
    "\n",
    "pbar = tqdm(total=100)\n",
    "while(count < 100):\n",
    "    real_world_grid, start_cell_ind, target_ind = gen_env(0.3,50)\n",
    "    if is_solvable(real_world_grid, start_cell_ind, target_ind):\n",
    "        count += 1\n",
    "    else:\n",
    "        continue\n",
    "    \n",
    "    bot_env = gen_env(0,50)\n",
    "    final_discovered_grid_world = gen_env(1,50)\n",
    "    output = repeated_astar_agent9(bot_env,real_world_grid,start_cell_ind,target_ind, 'm', final_discovered_gridworld)\n",
    "    cost_agent_9.append(output[1]+output[2])\n",
    "    movement_cost_agent_9.append(output[2])\n",
    "    examination_cost_agent_9.append(output[1])\n",
    "    pbar.update(1)\n",
    "pbar.close()"
   ]
  },
  {
   "cell_type": "code",
   "execution_count": 32,
   "id": "46f3b8b7",
   "metadata": {},
   "outputs": [
    {
     "data": {
      "text/plain": [
       "2891.92"
      ]
     },
     "execution_count": 32,
     "metadata": {},
     "output_type": "execute_result"
    }
   ],
   "source": [
    "sum(cost_agent_9)/100"
   ]
  },
  {
   "cell_type": "code",
   "execution_count": 33,
   "id": "d7aa2524",
   "metadata": {},
   "outputs": [
    {
     "data": {
      "text/plain": [
       "2886.43"
      ]
     },
     "execution_count": 33,
     "metadata": {},
     "output_type": "execute_result"
    }
   ],
   "source": [
    "sum(movement_cost_agent_9)/100"
   ]
  },
  {
   "cell_type": "code",
   "execution_count": 34,
   "id": "20867d8e",
   "metadata": {},
   "outputs": [
    {
     "data": {
      "text/plain": [
       "5.49"
      ]
     },
     "execution_count": 34,
     "metadata": {},
     "output_type": "execute_result"
    }
   ],
   "source": [
    "sum(examination_cost_agent_9)/100"
   ]
  },
  {
   "cell_type": "code",
   "execution_count": 35,
   "id": "93a31890",
   "metadata": {},
   "outputs": [
    {
     "data": {
      "text/plain": [
       "<matplotlib.legend.Legend at 0x7faaf2f937f0>"
      ]
     },
     "execution_count": 35,
     "metadata": {},
     "output_type": "execute_result"
    },
    {
     "data": {
      "image/png": "[encoded data removed]",
      "text/plain": [
       "<Figure size 432x288 with 1 Axes>"
      ]
     },
     "metadata": {
      "needs_background": "light"
     },
     "output_type": "display_data"
    }
   ],
   "source": [
    "plt.scatter(range(100),cost_agent_9,c='#FF5757')\n",
    "plt.legend(['Agent 9'])"
   ]
  },
  {
   "cell_type": "code",
   "execution_count": 36,
   "id": "46ad4f22",
   "metadata": {},
   "outputs": [
    {
     "data": {
      "text/plain": [
       "<matplotlib.legend.Legend at 0x7faaf26c6400>"
      ]
     },
     "execution_count": 36,
     "metadata": {},
     "output_type": "execute_result"
    },
    {
     "data": {
      "image/png": "[encoded data removed]",
      "text/plain": [
       "<Figure size 432x288 with 1 Axes>"
      ]
     },
     "metadata": {
      "needs_background": "light"
     },
     "output_type": "display_data"
    }
   ],
   "source": [
    "plt.scatter(range(100),movement_cost_agent_9)\n",
    "plt.legend(['Agent 9'])"
   ]
  },
  {
   "cell_type": "code",
   "execution_count": 37,
   "id": "bf5dde47",
   "metadata": {},
   "outputs": [
    {
     "data": {
      "text/plain": [
       "<matplotlib.legend.Legend at 0x7faaf27053a0>"
      ]
     },
     "execution_count": 37,
     "metadata": {},
     "output_type": "execute_result"
    },
    {
     "data": {
      "image/png": "[encoded data removed]",
      "text/plain": [
       "<Figure size 432x288 with 1 Axes>"
      ]
     },
     "metadata": {
      "needs_background": "light"
     },
     "output_type": "display_data"
    }
   ],
   "source": [
    "plt.scatter(range(100),examination_cost_agent_9,c='#FFBA57')\n",
    "plt.legend(['Agent 9'])"
   ]
  },
  {
   "cell_type": "code",
   "execution_count": 38,
   "id": "66b78c27",
   "metadata": {},
   "outputs": [
    {
     "data": {
      "image/png": "[encoded data removed]",
      "text/plain": [
       "<Figure size 720x504 with 1 Axes>"
      ]
     },
     "metadata": {
      "needs_background": "light"
     },
     "output_type": "display_data"
    }
   ],
   "source": [
    "np.random.seed(10) \n",
    "data = [cost_agent_9] \n",
    "   \n",
    "fig = plt.figure(figsize =(10, 7)) \n",
    "   \n",
    "# Creating axes instance \n",
    "ax = fig.add_axes([0, 0, 0.5, 0.5]) \n",
    "   \n",
    "# Creating plot \n",
    "bp = ax.boxplot(data, showfliers=False, notch=True, patch_artist = True) \n",
    "\n",
    "colors = ['#FF5757'] \n",
    "   \n",
    "for patch, color in zip(bp['boxes'], colors): \n",
    "    patch.set_facecolor(color) \n",
    "    \n",
    "ax.legend([bp[\"boxes\"][0]], ['Agent 9'])\n",
    "# show plot\n",
    "plt.ylabel('Total Cost')\n",
    "plt.show() "
   ]
  },
  {
   "cell_type": "code",
   "execution_count": 39,
   "id": "fa4c8e1e",
   "metadata": {},
   "outputs": [
    {
     "data": {
      "image/png": "[encoded data removed]",
      "text/plain": [
       "<Figure size 720x504 with 1 Axes>"
      ]
     },
     "metadata": {
      "needs_background": "light"
     },
     "output_type": "display_data"
    }
   ],
   "source": [
    "np.random.seed(10) \n",
    "data = [cost_agent_9] \n",
    "   \n",
    "fig = plt.figure(figsize =(10, 7)) \n",
    "   \n",
    "# Creating axes instance \n",
    "ax = fig.add_axes([0, 0, 0.5, 0.5]) \n",
    "   \n",
    "# Creating plot \n",
    "bp = ax.boxplot(data, showfliers=False, notch=True, patch_artist = True) \n",
    "\n",
    "colors = ['b'] \n",
    "   \n",
    "for patch, color in zip(bp['boxes'], colors): \n",
    "    patch.set_facecolor(color) \n",
    "    \n",
    "ax.legend([bp[\"boxes\"][0]], ['Agent 9'])\n",
    "# show plot\n",
    "plt.ylabel('Total Cost')\n",
    "plt.show() "
   ]
  },
  {
   "cell_type": "code",
   "execution_count": 40,
   "id": "dd4852d7",
   "metadata": {},
   "outputs": [
    {
     "data": {
      "image/png": "[encoded data removed]",
      "text/plain": [
       "<Figure size 720x504 with 1 Axes>"
      ]
     },
     "metadata": {
      "needs_background": "light"
     },
     "output_type": "display_data"
    }
   ],
   "source": [
    "np.random.seed(10) \n",
    "data = [examination_cost_agent_9] \n",
    "   \n",
    "fig = plt.figure(figsize =(10, 7)) \n",
    "   \n",
    "# Creating axes instance \n",
    "ax = fig.add_axes([0, 0, 0.5, 0.5]) \n",
    "   \n",
    "# Creating plot \n",
    "bp = ax.boxplot(data, showfliers=False, notch=True, patch_artist = True) \n",
    "\n",
    "colors = ['#FFBA57'] \n",
    "   \n",
    "for patch, color in zip(bp['boxes'], colors): \n",
    "    patch.set_facecolor(color) \n",
    "    \n",
    "ax.legend([bp[\"boxes\"][0]], ['Agent 9'])\n",
    "# show plot\n",
    "plt.ylabel('Examination Cost')\n",
    "plt.show() "
   ]
  },
  {
   "cell_type": "code",
   "execution_count": 41,
   "id": "88f2cca4",
   "metadata": {},
   "outputs": [],
   "source": [
    "import pickle"
   ]
  },
  {
   "cell_type": "code",
   "execution_count": 45,
   "id": "9cefdf2a",
   "metadata": {},
   "outputs": [],
   "source": [
    "with open('total_cost_agent_9.pkl', 'wb') as f:\n",
    "    pickle.dump(cost_agent_9,f)"
   ]
  },
  {
   "cell_type": "code",
   "execution_count": 43,
   "id": "eb7db0ca",
   "metadata": {},
   "outputs": [],
   "source": [
    "with open('movement_cost_agent_9.pkl', 'wb') as f:\n",
    "    pickle.dump(movement_cost_agent_9,f)"
   ]
  },
  {
   "cell_type": "code",
   "execution_count": 44,
   "id": "4bfa3167",
   "metadata": {},
   "outputs": [],
   "source": [
    "with open('examination_cost_agent_9.pkl', 'wb') as f:\n",
    "    pickle.dump(examination_cost_agent_9,f)"
   ]
  },
  {
   "cell_type": "code",
   "execution_count": null,
   "id": "15d02f16",
   "metadata": {},
   "outputs": [],
   "source": []
  }
 ],
 "metadata": {
  "colab": {
   "name": "Agent 9.ipynb",
   "provenance": []
  },
  "kernelspec": {
   "display_name": "Python 3",
   "language": "python",
   "name": "python3"
  },
  "language_info": {
   "codemirror_mode": {
    "name": "ipython",
    "version": 3
   },
   "file_extension": ".py",
   "mimetype": "text/x-python",
   "name": "python",
   "nbconvert_exporter": "python",
   "pygments_lexer": "ipython3",
   "version": "3.8.8"
  }
 },
 "nbformat": 4,
 "nbformat_minor": 5
}
