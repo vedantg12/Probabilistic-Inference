{
 "cells": [
  {
   "cell_type": "markdown",
   "id": "7f67fde8",
   "metadata": {},
   "source": [
    "#### Importing Libraries"
   ]
  },
  {
   "cell_type": "code",
   "execution_count": 1,
   "id": "8d3ac71d",
   "metadata": {},
   "outputs": [],
   "source": [
    "import random\n",
    "import numpy as np\n",
    "from tqdm import tqdm\n",
    "import matplotlib.pyplot as plt\n",
    "import math\n",
    "import time\n",
    "from sortedcontainers import SortedSet # Used for fringe in A star\n",
    "import queue\n",
    "from collections import deque \n",
    "import seaborn as sns\n",
    "import pandas as pd\n",
    "import pickle\n",
    "import matplotlib.patches as mpatches"
   ]
  },
  {
   "cell_type": "markdown",
   "id": "2037618c",
   "metadata": {},
   "source": [
    "### -----------------------------------------------------------------------------------------------------------------------------"
   ]
  },
  {
   "cell_type": "markdown",
   "id": "2115d3a5",
   "metadata": {},
   "source": [
    "#### Grid and Cell class"
   ]
  },
  {
   "cell_type": "code",
   "execution_count": 2,
   "id": "4e5d9cfb",
   "metadata": {},
   "outputs": [],
   "source": [
    "# Class cell -> its the class of all the nodes in the grid, Each cell of the grid is defined as a object of type \n",
    "# cell.\n",
    "class cell:\n",
    "    def __init__(self,x,y): # Constructor for class cell\n",
    "        self.x = x # x coordinate of the cell\n",
    "        self.y = y # y coordinate of the cell\n",
    "        self.g = 0 # g value of the cell (the distance from start cell to curr cell)\n",
    "        self.h = 0 # h value of the cell (estimated value of the distance between curr cell and goal cell)\n",
    "        self.f = 0 # f value of the cell (f = g+h in A*, defines the priority of a node)\n",
    "        self.blocked = False\n",
    "        self.terrain = None\n",
    "        self.false_neg_rate = 0\n",
    "        self.prob_of_containing_target = 0\n",
    "        \n",
    "    def set_h_value(self, g_x, g_y, heuristic, weight):\n",
    "        '''This function is used to assign the heuristic value i.e. the h value and the f value to the calling \n",
    "           class object. It takes in the argument g_x = goal cell abscissa, g_y = goal cell ordinate, \n",
    "           heuristic = It defines the type of heuristic the A* problem is using, weight = this is for problem \n",
    "           number 9 where we test the effect of weights on the performance of repeated A* and normal A*.'''\n",
    "        if heuristic == 'm': \n",
    "            # Manhattan distance\n",
    "            self.h = weight * abs(g_x - self.x) + abs(g_y - self.y)\n",
    "            self.f = self.g + self.h # also updating f inside this function\n",
    "        if heuristic == 'e':\n",
    "            # euclidean distance\n",
    "            self.h = weight * math.sqrt((g_x - self.x)**2 + (g_y - self.y)**2)\n",
    "            self.f = self.g + self.h\n",
    "        if heuristic == 'c':\n",
    "            # chebyshev distance\n",
    "            self.h = weight * max(abs(g_x - self.x), abs(g_y - self.y))\n",
    "            self.f = self.g + self.h\n",
    "        if heuristic == 'dec_weight_m':\n",
    "            # dec_weight_m manhattan distance is used as the heuristic\n",
    "            # Adaptive weight technique, nodes nearer to the goal cell are assigned lower weight and nodes farther\n",
    "            # away from the goal cell are assigned greater weights.\n",
    "            self.h = abs(g_x - self.x) + abs(g_y - self.y)\n",
    "            # if g < (2w-1)h then reduce the weight of g else reduce the weights of both g and h\n",
    "            if self.g < (2*weight - 1) * self.h: \n",
    "                self.f = self.g / (2*weight - 1) + self.h\n",
    "            else:\n",
    "                self.f = (self.g + self.h) / weight \n",
    "        if heuristic == 'dec_weight_e':\n",
    "            # dec_weight_e euclidean distance is used as the heuristic\n",
    "            self.h = math.sqrt((g_x - self.x)**2 + (g_y - self.y)**2)\n",
    "            # same exp as in dec_weight_m\n",
    "            if self.g < (2*weight - 1) * self.h:\n",
    "                self.f = self.g / (2*weight - 1) + self.h\n",
    "            else:\n",
    "                self.f = (self.g + self.h) / weight\n",
    "        if heuristic == 'dec_weight_c':\n",
    "            # chebyshev distance is used as the heuristic\n",
    "            self.h = max(abs(g_x - self.x), abs(g_y - self.y))\n",
    "            # same explanation as dec_weight_m\n",
    "            if self.g < (2*weight - 1) * self.h:\n",
    "                self.f = self.g / (2*weight - 1) + self.h\n",
    "            else:\n",
    "                self.f = (self.g + self.h) / weight\n",
    "        if heuristic == 'inc_weight_m':\n",
    "            # This is also an adaptive weight technique, but instead of decreasing weight as we move along the \n",
    "            # path, we assign more weight to h.\n",
    "            self.h = abs(g_x - self.x) + abs(g_y - self.y)\n",
    "            if self.g < self.h:\n",
    "                self.f = self.g + self.h\n",
    "            else:\n",
    "                self.f = self.g + (2*weight-1)*self.h \n",
    "        if heuristic == 'g':\n",
    "            # Toal greedy approach used in q4 to compare the speeds of A* and greedy best first search algorithm.\n",
    "            # manhattan distance is used as heuristic\n",
    "            self.h = abs(g_x - self.x) + abs(g_y - self.y)\n",
    "            self.f = self.h"
   ]
  },
  {
   "cell_type": "code",
   "execution_count": 3,
   "id": "8d56803a",
   "metadata": {},
   "outputs": [],
   "source": [
    "# Class grid_world -> This class is used to generate a grid world of dimension dim with each cell having \n",
    "# probability p of being blocked.\n",
    "class grid_world:\n",
    "    def __init__(self,p,dim):\n",
    "        self.p = p # probability with which the cell is blocked\n",
    "        self.dim = dim # dimension of the grid (dim x dim)\n",
    "    def gen_grid(self,matrix):\n",
    "        '''This function is used to generate the grid. The grid is returned in the form of list of list.'''\n",
    "        for i in range(self.dim): # looping over the dimension to generate rows of cells\n",
    "            a = [] # store a row of the grid of len dim\n",
    "            for j in range(self.dim): # looping over the dim to generate cols of cells\n",
    "                c = cell(i,j) # cell for coordinates (i,j)\n",
    "                chance = random.uniform(0,1) \n",
    "                # generating a random number between 0 and 1 from uniform distribution, if its less than p \n",
    "                # the cell is blocked else the cell is unblocked.\n",
    "                # if the number generated is less than or equal to p, block the cell.\n",
    "                if(chance <= self.p):\n",
    "                    c.blocked = True\n",
    "                else:\n",
    "                    if(self.p!= 1 and self.p!= 0):\n",
    "                        x = random.randint(1,3)\n",
    "                        if(x==1):\n",
    "                            c.terrain = 'flat'\n",
    "                            c.false_neg_rate = 0.2\n",
    "                        elif x == 2:\n",
    "                            c.terrain = 'hill'\n",
    "                            c.false_neg_rate = 0.5\n",
    "                        else:\n",
    "                            c.terrain = 'Forest'\n",
    "                            c.false_neg_rate = 0.8\n",
    "                    \n",
    "                a.append(c) # append the cell to the row\n",
    "                \n",
    "            matrix.append(a) # append the row to the grid\n",
    "        if(self.p!= 1 and self.p!= 0):\n",
    "            while(True):\n",
    "                start_cell_x = random.randint(0,self.dim-1)\n",
    "                start_cell_y = random.randint(0,self.dim-1)\n",
    "\n",
    "                if matrix[start_cell_x][start_cell_y].blocked == True:\n",
    "                    continue\n",
    "\n",
    "                target_x = random.randint(0,self.dim-1)\n",
    "                target_y = random.randint(0,self.dim-1)\n",
    "\n",
    "                if matrix[target_x][target_y].blocked == True:\n",
    "                    continue\n",
    "\n",
    "                break\n",
    "        \n",
    "            return matrix, (start_cell_x, start_cell_y), (target_x, target_y) # return the final grid\n",
    "        else:\n",
    "            return matrix"
   ]
  },
  {
   "cell_type": "code",
   "execution_count": 4,
   "id": "3adc2794",
   "metadata": {},
   "outputs": [],
   "source": [
    "def gen_env(p, dim):\n",
    "    '''Function to generate the enviornment with probability of blockage p and dimension = dim x dim'''\n",
    "    temp = grid_world(p, dim)\n",
    "    if (p!= 1 and p!= 0):\n",
    "        grid, start_cell_ind, target_ind = temp.gen_grid([])\n",
    "        return grid, start_cell_ind, target_ind\n",
    "    else:\n",
    "        grid = temp.gen_grid([])\n",
    "        return grid"
   ]
  },
  {
   "cell_type": "code",
   "execution_count": 5,
   "id": "7cc6a7fd",
   "metadata": {},
   "outputs": [],
   "source": [
    "def disp_grid(grid):\n",
    "    '''Since our grid is a list of list of cells simply printing it does not work. This function prints the \n",
    "    grid with blockage as x and a cell on which we can travel as -'''\n",
    "    l = []\n",
    "    for i in range(len(grid)):\n",
    "        a = []\n",
    "        for j in range(len(grid)):\n",
    "            if grid[i][j].blocked:\n",
    "                a.append('x')\n",
    "            else:\n",
    "                a.append('-')\n",
    "        l.append(a)\n",
    "    return l"
   ]
  },
  {
   "cell_type": "code",
   "execution_count": 6,
   "id": "29da9758",
   "metadata": {},
   "outputs": [],
   "source": [
    "real_world_grid, start_cell_ind, target_ind = gen_env(0.3,10)"
   ]
  },
  {
   "cell_type": "code",
   "execution_count": 7,
   "id": "e574db81",
   "metadata": {},
   "outputs": [],
   "source": [
    "bot_env = gen_env(0,10)"
   ]
  },
  {
   "cell_type": "code",
   "execution_count": 8,
   "id": "b83972ad",
   "metadata": {},
   "outputs": [],
   "source": [
    "final_discovered_gridworld = gen_env(1,10)"
   ]
  },
  {
   "cell_type": "code",
   "execution_count": 9,
   "id": "d073322d",
   "metadata": {},
   "outputs": [
    {
     "data": {
      "text/plain": [
       "[['-', '-', '-', '-', '-', 'x', '-', '-', 'x', '-'],\n",
       " ['x', '-', '-', '-', '-', '-', '-', '-', '-', '-'],\n",
       " ['-', 'x', 'x', '-', '-', '-', 'x', '-', '-', '-'],\n",
       " ['x', '-', '-', '-', '-', '-', '-', '-', 'x', '-'],\n",
       " ['-', '-', 'x', '-', 'x', '-', '-', '-', 'x', '-'],\n",
       " ['-', '-', 'x', '-', '-', 'x', '-', '-', '-', 'x'],\n",
       " ['x', '-', '-', '-', 'x', '-', '-', '-', '-', '-'],\n",
       " ['-', '-', '-', '-', '-', 'x', '-', '-', '-', '-'],\n",
       " ['-', '-', '-', '-', '-', '-', 'x', '-', '-', '-'],\n",
       " ['-', '-', 'x', '-', 'x', 'x', '-', '-', '-', '-']]"
      ]
     },
     "execution_count": 9,
     "metadata": {},
     "output_type": "execute_result"
    }
   ],
   "source": [
    "disp_grid(real_world_grid)"
   ]
  },
  {
   "cell_type": "code",
   "execution_count": 10,
   "id": "35ec9ab8",
   "metadata": {},
   "outputs": [
    {
     "data": {
      "text/plain": [
       "(5, 0)"
      ]
     },
     "execution_count": 10,
     "metadata": {},
     "output_type": "execute_result"
    }
   ],
   "source": [
    "start_cell_ind"
   ]
  },
  {
   "cell_type": "code",
   "execution_count": 11,
   "id": "96f0a52b",
   "metadata": {},
   "outputs": [
    {
     "data": {
      "text/plain": [
       "(4, 6)"
      ]
     },
     "execution_count": 11,
     "metadata": {},
     "output_type": "execute_result"
    }
   ],
   "source": [
    "target_ind"
   ]
  },
  {
   "cell_type": "markdown",
   "id": "e35f57af",
   "metadata": {},
   "source": [
    "### -----------------------------------------------------------------------------------------------------------------------------"
   ]
  },
  {
   "cell_type": "markdown",
   "id": "24479cf0",
   "metadata": {},
   "source": [
    "#### Helper functions"
   ]
  },
  {
   "cell_type": "code",
   "execution_count": 12,
   "id": "e74590e7",
   "metadata": {},
   "outputs": [],
   "source": [
    "def assign_initial_probability(grid):\n",
    "    num = 1\n",
    "    den = len(grid)*len(grid)\n",
    "    for i in range(len(grid)):\n",
    "        for j in range(len(grid[i])):\n",
    "            grid[i][j].prob_of_containing_target = num/den"
   ]
  },
  {
   "cell_type": "code",
   "execution_count": 13,
   "id": "a2790aad",
   "metadata": {},
   "outputs": [],
   "source": [
    "assign_initial_probability(bot_env)"
   ]
  },
  {
   "cell_type": "code",
   "execution_count": 14,
   "id": "d096a118",
   "metadata": {},
   "outputs": [],
   "source": [
    "def disp_prob_of_grid(grid):\n",
    "    l = []\n",
    "    for i in range(len(grid)):\n",
    "        a = []\n",
    "        for j in range(len(grid)):\n",
    "            a.append(grid[i][j].prob_of_containing_target)\n",
    "        l.append(a)\n",
    "    return l"
   ]
  },
  {
   "cell_type": "code",
   "execution_count": 15,
   "id": "bd5f2665",
   "metadata": {},
   "outputs": [
    {
     "data": {
      "text/plain": [
       "[[0.01, 0.01, 0.01, 0.01, 0.01, 0.01, 0.01, 0.01, 0.01, 0.01],\n",
       " [0.01, 0.01, 0.01, 0.01, 0.01, 0.01, 0.01, 0.01, 0.01, 0.01],\n",
       " [0.01, 0.01, 0.01, 0.01, 0.01, 0.01, 0.01, 0.01, 0.01, 0.01],\n",
       " [0.01, 0.01, 0.01, 0.01, 0.01, 0.01, 0.01, 0.01, 0.01, 0.01],\n",
       " [0.01, 0.01, 0.01, 0.01, 0.01, 0.01, 0.01, 0.01, 0.01, 0.01],\n",
       " [0.01, 0.01, 0.01, 0.01, 0.01, 0.01, 0.01, 0.01, 0.01, 0.01],\n",
       " [0.01, 0.01, 0.01, 0.01, 0.01, 0.01, 0.01, 0.01, 0.01, 0.01],\n",
       " [0.01, 0.01, 0.01, 0.01, 0.01, 0.01, 0.01, 0.01, 0.01, 0.01],\n",
       " [0.01, 0.01, 0.01, 0.01, 0.01, 0.01, 0.01, 0.01, 0.01, 0.01],\n",
       " [0.01, 0.01, 0.01, 0.01, 0.01, 0.01, 0.01, 0.01, 0.01, 0.01]]"
      ]
     },
     "execution_count": 15,
     "metadata": {},
     "output_type": "execute_result"
    }
   ],
   "source": [
    "disp_prob_of_grid(bot_env)"
   ]
  },
  {
   "cell_type": "code",
   "execution_count": 16,
   "id": "27c8ba1f",
   "metadata": {},
   "outputs": [],
   "source": [
    "def assign_new_probability_when_target_not_found(grid, cell_x, cell_y):\n",
    "    FN = grid[cell_x][cell_y].false_neg_rate\n",
    "    prob_of_containing_x_y = grid[cell_x][cell_y].prob_of_containing_target\n",
    "    den = 0\n",
    "    \n",
    "    for i in range(len(grid)):\n",
    "        for j in range(len(grid)):\n",
    "            if(grid[i][j].blocked):\n",
    "                continue\n",
    "            if (i == cell_x and j == cell_y):\n",
    "                den += grid[cell_x][cell_y].prob_of_containing_target * grid[cell_x][cell_y].false_neg_rate\n",
    "            else:\n",
    "                den += grid[i][j].prob_of_containing_target\n",
    "            \n",
    "    for i in range(len(grid)):\n",
    "        for j in range(len(grid[i])):\n",
    "            if(grid[i][j].blocked):\n",
    "                continue\n",
    "            else:\n",
    "                prob_of_containing = grid[i][j].prob_of_containing_target\n",
    "                if(i == cell_x and j == cell_y):\n",
    "                    grid[i][j].prob_of_containing_target = (prob_of_containing_x_y*FN)/den\n",
    "                else:\n",
    "                    grid[i][j].prob_of_containing_target = prob_of_containing/den"
   ]
  },
  {
   "cell_type": "code",
   "execution_count": 17,
   "id": "5e11f9e0",
   "metadata": {
    "scrolled": true
   },
   "outputs": [],
   "source": [
    "assign_new_probability_when_target_not_found(bot_env, 1, 3)"
   ]
  },
  {
   "cell_type": "code",
   "execution_count": 18,
   "id": "68b33d8b",
   "metadata": {
    "scrolled": true
   },
   "outputs": [
    {
     "data": {
      "text/plain": [
       "[[0.010101010101010095,\n",
       "  0.010101010101010095,\n",
       "  0.010101010101010095,\n",
       "  0.010101010101010095,\n",
       "  0.010101010101010095,\n",
       "  0.010101010101010095,\n",
       "  0.010101010101010095,\n",
       "  0.010101010101010095,\n",
       "  0.010101010101010095,\n",
       "  0.010101010101010095],\n",
       " [0.010101010101010095,\n",
       "  0.010101010101010095,\n",
       "  0.010101010101010095,\n",
       "  0.0,\n",
       "  0.010101010101010095,\n",
       "  0.010101010101010095,\n",
       "  0.010101010101010095,\n",
       "  0.010101010101010095,\n",
       "  0.010101010101010095,\n",
       "  0.010101010101010095],\n",
       " [0.010101010101010095,\n",
       "  0.010101010101010095,\n",
       "  0.010101010101010095,\n",
       "  0.010101010101010095,\n",
       "  0.010101010101010095,\n",
       "  0.010101010101010095,\n",
       "  0.010101010101010095,\n",
       "  0.010101010101010095,\n",
       "  0.010101010101010095,\n",
       "  0.010101010101010095],\n",
       " [0.010101010101010095,\n",
       "  0.010101010101010095,\n",
       "  0.010101010101010095,\n",
       "  0.010101010101010095,\n",
       "  0.010101010101010095,\n",
       "  0.010101010101010095,\n",
       "  0.010101010101010095,\n",
       "  0.010101010101010095,\n",
       "  0.010101010101010095,\n",
       "  0.010101010101010095],\n",
       " [0.010101010101010095,\n",
       "  0.010101010101010095,\n",
       "  0.010101010101010095,\n",
       "  0.010101010101010095,\n",
       "  0.010101010101010095,\n",
       "  0.010101010101010095,\n",
       "  0.010101010101010095,\n",
       "  0.010101010101010095,\n",
       "  0.010101010101010095,\n",
       "  0.010101010101010095],\n",
       " [0.010101010101010095,\n",
       "  0.010101010101010095,\n",
       "  0.010101010101010095,\n",
       "  0.010101010101010095,\n",
       "  0.010101010101010095,\n",
       "  0.010101010101010095,\n",
       "  0.010101010101010095,\n",
       "  0.010101010101010095,\n",
       "  0.010101010101010095,\n",
       "  0.010101010101010095],\n",
       " [0.010101010101010095,\n",
       "  0.010101010101010095,\n",
       "  0.010101010101010095,\n",
       "  0.010101010101010095,\n",
       "  0.010101010101010095,\n",
       "  0.010101010101010095,\n",
       "  0.010101010101010095,\n",
       "  0.010101010101010095,\n",
       "  0.010101010101010095,\n",
       "  0.010101010101010095],\n",
       " [0.010101010101010095,\n",
       "  0.010101010101010095,\n",
       "  0.010101010101010095,\n",
       "  0.010101010101010095,\n",
       "  0.010101010101010095,\n",
       "  0.010101010101010095,\n",
       "  0.010101010101010095,\n",
       "  0.010101010101010095,\n",
       "  0.010101010101010095,\n",
       "  0.010101010101010095],\n",
       " [0.010101010101010095,\n",
       "  0.010101010101010095,\n",
       "  0.010101010101010095,\n",
       "  0.010101010101010095,\n",
       "  0.010101010101010095,\n",
       "  0.010101010101010095,\n",
       "  0.010101010101010095,\n",
       "  0.010101010101010095,\n",
       "  0.010101010101010095,\n",
       "  0.010101010101010095],\n",
       " [0.010101010101010095,\n",
       "  0.010101010101010095,\n",
       "  0.010101010101010095,\n",
       "  0.010101010101010095,\n",
       "  0.010101010101010095,\n",
       "  0.010101010101010095,\n",
       "  0.010101010101010095,\n",
       "  0.010101010101010095,\n",
       "  0.010101010101010095,\n",
       "  0.010101010101010095]]"
      ]
     },
     "execution_count": 18,
     "metadata": {},
     "output_type": "execute_result"
    }
   ],
   "source": [
    "disp_prob_of_grid(bot_env)"
   ]
  },
  {
   "cell_type": "code",
   "execution_count": 19,
   "id": "fb0b76c3",
   "metadata": {},
   "outputs": [],
   "source": [
    "def assign_new_probability_when_new_block_disc(grid, cell_x, cell_y):\n",
    "    prob_of_containing_x_y = grid[cell_x][cell_y].prob_of_containing_target\n",
    "    den = 0\n",
    "    \n",
    "    for i in range(len(grid)):\n",
    "        for j in range(len(grid)):\n",
    "            if(grid[i][j].blocked):\n",
    "                continue\n",
    "            if (i == cell_x and j == cell_y):\n",
    "                continue\n",
    "            else:\n",
    "                den += grid[i][j].prob_of_containing_target\n",
    "    \n",
    "    \n",
    "    for i in range(len(grid)):\n",
    "        for j in range(len(grid[i])):\n",
    "            if (i== cell_x and j== cell_y):\n",
    "                grid[i][j].prob_of_containing_target = 0\n",
    "            else:\n",
    "                if(grid[i][j].blocked):\n",
    "                    continue\n",
    "                else:\n",
    "                    prob_of_containing = grid[i][j].prob_of_containing_target\n",
    "                    grid[i][j].prob_of_containing_target = prob_of_containing/den"
   ]
  },
  {
   "cell_type": "code",
   "execution_count": 20,
   "id": "a1217fd8",
   "metadata": {},
   "outputs": [],
   "source": [
    "assign_new_probability_when_new_block_disc(bot_env,0,3)"
   ]
  },
  {
   "cell_type": "code",
   "execution_count": 21,
   "id": "4736a0f3",
   "metadata": {
    "scrolled": true
   },
   "outputs": [
    {
     "data": {
      "text/plain": [
       "[[0.01020408163265308,\n",
       "  0.01020408163265308,\n",
       "  0.01020408163265308,\n",
       "  0,\n",
       "  0.01020408163265308,\n",
       "  0.01020408163265308,\n",
       "  0.01020408163265308,\n",
       "  0.01020408163265308,\n",
       "  0.01020408163265308,\n",
       "  0.01020408163265308],\n",
       " [0.01020408163265308,\n",
       "  0.01020408163265308,\n",
       "  0.01020408163265308,\n",
       "  0.0,\n",
       "  0.01020408163265308,\n",
       "  0.01020408163265308,\n",
       "  0.01020408163265308,\n",
       "  0.01020408163265308,\n",
       "  0.01020408163265308,\n",
       "  0.01020408163265308],\n",
       " [0.01020408163265308,\n",
       "  0.01020408163265308,\n",
       "  0.01020408163265308,\n",
       "  0.01020408163265308,\n",
       "  0.01020408163265308,\n",
       "  0.01020408163265308,\n",
       "  0.01020408163265308,\n",
       "  0.01020408163265308,\n",
       "  0.01020408163265308,\n",
       "  0.01020408163265308],\n",
       " [0.01020408163265308,\n",
       "  0.01020408163265308,\n",
       "  0.01020408163265308,\n",
       "  0.01020408163265308,\n",
       "  0.01020408163265308,\n",
       "  0.01020408163265308,\n",
       "  0.01020408163265308,\n",
       "  0.01020408163265308,\n",
       "  0.01020408163265308,\n",
       "  0.01020408163265308],\n",
       " [0.01020408163265308,\n",
       "  0.01020408163265308,\n",
       "  0.01020408163265308,\n",
       "  0.01020408163265308,\n",
       "  0.01020408163265308,\n",
       "  0.01020408163265308,\n",
       "  0.01020408163265308,\n",
       "  0.01020408163265308,\n",
       "  0.01020408163265308,\n",
       "  0.01020408163265308],\n",
       " [0.01020408163265308,\n",
       "  0.01020408163265308,\n",
       "  0.01020408163265308,\n",
       "  0.01020408163265308,\n",
       "  0.01020408163265308,\n",
       "  0.01020408163265308,\n",
       "  0.01020408163265308,\n",
       "  0.01020408163265308,\n",
       "  0.01020408163265308,\n",
       "  0.01020408163265308],\n",
       " [0.01020408163265308,\n",
       "  0.01020408163265308,\n",
       "  0.01020408163265308,\n",
       "  0.01020408163265308,\n",
       "  0.01020408163265308,\n",
       "  0.01020408163265308,\n",
       "  0.01020408163265308,\n",
       "  0.01020408163265308,\n",
       "  0.01020408163265308,\n",
       "  0.01020408163265308],\n",
       " [0.01020408163265308,\n",
       "  0.01020408163265308,\n",
       "  0.01020408163265308,\n",
       "  0.01020408163265308,\n",
       "  0.01020408163265308,\n",
       "  0.01020408163265308,\n",
       "  0.01020408163265308,\n",
       "  0.01020408163265308,\n",
       "  0.01020408163265308,\n",
       "  0.01020408163265308],\n",
       " [0.01020408163265308,\n",
       "  0.01020408163265308,\n",
       "  0.01020408163265308,\n",
       "  0.01020408163265308,\n",
       "  0.01020408163265308,\n",
       "  0.01020408163265308,\n",
       "  0.01020408163265308,\n",
       "  0.01020408163265308,\n",
       "  0.01020408163265308,\n",
       "  0.01020408163265308],\n",
       " [0.01020408163265308,\n",
       "  0.01020408163265308,\n",
       "  0.01020408163265308,\n",
       "  0.01020408163265308,\n",
       "  0.01020408163265308,\n",
       "  0.01020408163265308,\n",
       "  0.01020408163265308,\n",
       "  0.01020408163265308,\n",
       "  0.01020408163265308,\n",
       "  0.01020408163265308]]"
      ]
     },
     "execution_count": 21,
     "metadata": {},
     "output_type": "execute_result"
    }
   ],
   "source": [
    "disp_prob_of_grid(bot_env)"
   ]
  },
  {
   "cell_type": "code",
   "execution_count": 22,
   "id": "43f88051",
   "metadata": {},
   "outputs": [],
   "source": [
    "def choose_next_goal_cell(grid, cell_x, cell_y):\n",
    "    min_dist = math.inf\n",
    "    target = []\n",
    "    max_prob = 0\n",
    "    max_prob_ind = []\n",
    "    for i in range(len(grid)):\n",
    "        for j in range(len(grid[i])):\n",
    "            if(i == cell_x and j == cell_y):\n",
    "                continue\n",
    "            if grid[i][j].prob_of_containing_target > max_prob:\n",
    "                max_prob = grid[i][j].prob_of_containing_target\n",
    "                max_prob_ind = [[i,j]]\n",
    "            elif grid[i][j].prob_of_containing_target == max_prob:\n",
    "                max_prob_ind.append([i,j])    \n",
    "\n",
    "    for l in max_prob_ind:\n",
    "        if abs(cell_x - l[0]) + abs(cell_y - l[1]) < min_dist:\n",
    "            min_dist = abs(cell_x - l[0]) + abs(cell_y - l[1])\n",
    "            target = [l]\n",
    "        elif abs(cell_x - l[0]) + abs(cell_y - l[1]) == min_dist:\n",
    "            target.append(l)\n",
    "    return target"
   ]
  },
  {
   "cell_type": "code",
   "execution_count": 23,
   "id": "81923c47",
   "metadata": {},
   "outputs": [],
   "source": [
    "def choose_next_goal_cell_agent7(grid, cell_x, cell_y):\n",
    "    min_dist = math.inf\n",
    "    target = []\n",
    "    max_prob = 0\n",
    "    max_prob_ind = []\n",
    "    for i in range(len(grid)):\n",
    "        for j in range(len(grid[i])):\n",
    "            if(i == cell_x and j == cell_y):\n",
    "                continue\n",
    "            if grid[i][j].prob_of_containing_target*(1-grid[i][j].false_neg_rate) > max_prob:\n",
    "                max_prob = grid[i][j].prob_of_containing_target*(1-grid[i][j].false_neg_rate)\n",
    "                max_prob_ind = [[i,j]]\n",
    "            elif grid[i][j].prob_of_containing_target*(1-grid[i][j].false_neg_rate) == max_prob:\n",
    "                max_prob_ind.append([i,j])    \n",
    "\n",
    "    for l in max_prob_ind:\n",
    "        if abs(cell_x - l[0]) + abs(cell_y - l[1]) < min_dist:\n",
    "            min_dist = abs(cell_x - l[0]) + abs(cell_y - l[1])\n",
    "            target = [l]\n",
    "        elif abs(cell_x - l[0]) + abs(cell_y - l[1]) == min_dist:\n",
    "            target.append(l)\n",
    "    return target"
   ]
  },
  {
   "cell_type": "code",
   "execution_count": 24,
   "id": "5031087d",
   "metadata": {},
   "outputs": [],
   "source": [
    "def choose_next_goal_cell_agent8(grid, cell_x, cell_y):\n",
    "    min_dist = math.inf\n",
    "    target = []\n",
    "    max_utility = 0\n",
    "    max_utility_ind = []\n",
    "    #max_dist = 2*len(grid)-2\n",
    "    max_dist = 200\n",
    "    \n",
    "    for i in range(len(grid)):\n",
    "        for j in range(len(grid[i])):\n",
    "            if(i==cell_x and j == cell_y):\n",
    "                continue\n",
    "            p = grid[i][j].prob_of_containing_target\n",
    "            FN = grid[i][j].false_neg_rate\n",
    "            dist = abs(cell_x - i) + abs(cell_y - j)\n",
    "            if p*(1-FN)*max_dist/dist > max_utility:\n",
    "                \n",
    "                max_utility = p*(1-FN)*max_dist/dist\n",
    "                max_utility_ind = [[i,j]]\n",
    "            elif p*(1-FN)*max_dist/dist == max_utility:\n",
    "                max_utility_ind.append([i,j])    \n",
    "\n",
    "#     max_prob = 0\n",
    "#     for l in max_utility_ind:\n",
    "#         if grid[l[0]][l[1]].prob_of_containing_target*(1-grid[l[0]][l[1]].false_neg_rate) > max_prob:\n",
    "#             max_prob = grid[l[0]][l[1]].prob_of_containing_target*(1-grid[l[0]][l[1]].false_neg_rate)\n",
    "#             target = [l]\n",
    "#         elif grid[l[0]][l[1]].prob_of_containing_target*(1-grid[l[0]][l[1]].false_neg_rate) == max_prob:\n",
    "#             target.append(l)\n",
    "#     return target\n",
    "    \n",
    "    for l in max_utility_ind:\n",
    "        if abs(cell_x - l[0]) + abs(cell_y - l[1]) < min_dist:\n",
    "            min_dist = abs(cell_x - l[0]) + abs(cell_y - l[1])\n",
    "            target = [l]\n",
    "        elif abs(cell_x - l[0]) + abs(cell_y - l[1]) == min_dist:\n",
    "            target.append(l)\n",
    "    return target"
   ]
  },
  {
   "cell_type": "code",
   "execution_count": 25,
   "id": "e10dcf2f",
   "metadata": {},
   "outputs": [
    {
     "data": {
      "text/plain": [
       "[[0, 1], [1, 0]]"
      ]
     },
     "execution_count": 25,
     "metadata": {},
     "output_type": "execute_result"
    }
   ],
   "source": [
    "choose_next_goal_cell(bot_env, 0, 0)"
   ]
  },
  {
   "cell_type": "code",
   "execution_count": 26,
   "id": "c7b10e40",
   "metadata": {},
   "outputs": [],
   "source": [
    "def find_target_in_goal_cell(grid,cell_x,cell_y,target_cell):\n",
    "    if((cell_x, cell_y) == target_cell):\n",
    "        chance = random.uniform(0,1)\n",
    "        if chance <= grid[cell_x][cell_y].false_neg_rate:\n",
    "            return False\n",
    "        else:\n",
    "            return True\n",
    "    else:\n",
    "        return False"
   ]
  },
  {
   "cell_type": "code",
   "execution_count": 27,
   "id": "e7f5cf2c",
   "metadata": {},
   "outputs": [],
   "source": [
    "#function to print path\n",
    "def print_path(paths, start_cell_ind):\n",
    "    '''\n",
    "    Function to print the path also we use it to get the final trajectory with backtracking taken by the agent. \n",
    "    '''\n",
    "    l = [list(start_cell_ind)] # start from [0,0]\n",
    "    for path in paths: \n",
    "        l.extend(path[1:]) # extend the list with values of path \n",
    "    return l"
   ]
  },
  {
   "cell_type": "code",
   "execution_count": 28,
   "id": "568bfa3b",
   "metadata": {},
   "outputs": [],
   "source": [
    "def is_solvable(grid,start_cell_ind,target_ind):\n",
    "    p = Astar(real_world_grid,start_cell_ind,target_ind,'m')\n",
    "    if p[0] == []:\n",
    "        return False\n",
    "    else:\n",
    "        return True"
   ]
  },
  {
   "cell_type": "markdown",
   "id": "c90aeef7",
   "metadata": {},
   "source": [
    "### -----------------------------------------------------------------------------------------------------------------------------"
   ]
  },
  {
   "cell_type": "markdown",
   "id": "dc7f10f1",
   "metadata": {},
   "source": [
    "#### Astar"
   ]
  },
  {
   "cell_type": "code",
   "execution_count": 29,
   "id": "a18b931a",
   "metadata": {},
   "outputs": [],
   "source": [
    "def Astar(grid,start_cell_ind,goal_cell_ind, heuristic, weight = 1):\n",
    "    cells_processed = 0 # number of cells popped from the fringe before reaching the goal.\n",
    "    number_of_clashes = 0 # number of time we had to update priorities in the fringe.\n",
    "    start_cell = grid[start_cell_ind[0]][start_cell_ind[1]] # start cell of our grid.\n",
    "    goal_cell = grid[goal_cell_ind[0]][goal_cell_ind[1]] # goal cell of our grid\n",
    "    open_list = SortedSet() # fringe, we have used sorted set as our priority queue\n",
    "    close_list = set() # contains cells already processed, have used set for this purpose (O(1) lookup on average)\n",
    "    parent_dict = {} # stores parent child relationship, using dictionary for this\n",
    "    visited = set() # child already visited, using set for this purpose (O(1) lookup on average)\n",
    "    start_cell.g = 0 # Setting the g value of the start cell to 0\n",
    "    # setting the h and f value of the start cell using the weight and heuristic passed in the function arguments.\n",
    "    # weight is for q9\n",
    "    start_cell.set_h_value(goal_cell_ind[0], goal_cell_ind[1], heuristic, weight)\n",
    "    open_list.add((start_cell.f, start_cell.h, (start_cell.x, start_cell.y))) # adding the start cell to the priority queue\n",
    "    # In the queue we are pushing a tuple whose first coordinate is the f value, second coordinate is the h value \n",
    "    # then a tuple containing the location of the cell. The priority is set according to the f value in case of a \n",
    "    # tie h value is seen.\n",
    "    visited.add((start_cell.x, start_cell.y)) # updating the visited set as we are pushing the node in priority queue\n",
    "    while len(open_list)>0: # loop over the priority queue until it is not empty or we reach the goal node\n",
    "        cl = open_list.pop(0) # pop the node with the least priority (it is at index 0 in the sorted set)\n",
    "        curr_cell = grid[cl[-1][0]][cl[-1][1]] # the last index in cl contains the x and y coordinates, \n",
    "        # storing the node popped from the queue in curr_cell.\n",
    "        cells_processed += 1 # incrementing the number of cells processed (since we just popped from the queue)\n",
    "        close_list.add((curr_cell.x, curr_cell.y)) # adding the node to the closed list as it is about to be processed\n",
    "        if curr_cell == goal_cell: \n",
    "            # If the curr cell is the goal cell return the path from the curr cell to goal cell by backtracking \n",
    "            # from goal cell to curr cell using the parent dictionary as well as all the nodes \n",
    "            # that have been processed uptil now.\n",
    "            path = []\n",
    "            curr = curr_cell\n",
    "            while (curr.x, curr.y) != (start_cell_ind[0], start_cell_ind[1]):\n",
    "                path.append([curr.x, curr.y])\n",
    "                curr = parent_dict[(curr.x, curr.y)]\n",
    "            path.append([curr.x,curr.y])\n",
    "            return path[::-1], cells_processed, number_of_clashes\n",
    "        \n",
    "        children = [] # This list is used to store all the possible valid children of the cell \n",
    "        # currently being processed.\n",
    "        for new_pos in [(0,1),(0,-1),(1,0),(-1,0)]: # 4 main compass directions, field of view also the agent can \n",
    "            # only move to these locations\n",
    "            node_pos = (curr_cell.x+new_pos[0], curr_cell.y+new_pos[1]) # position of the child\n",
    "            if(node_pos[0] > len(grid)-1 or node_pos[1] > len(grid)-1 or node_pos[0] < 0 or node_pos[1] < 0):\n",
    "                # if the child is not part of the grid continue\n",
    "                continue\n",
    "            if(grid[node_pos[0]][node_pos[1]].blocked):\n",
    "                # if the child is blocked continue\n",
    "                continue\n",
    "            if((node_pos[0], node_pos[1]) in close_list):\n",
    "                # if child is in close list continue\n",
    "                continue\n",
    "            if((node_pos[0], node_pos[1]) in visited):\n",
    "                # if the child is already visited then compare the previous cost(f) to the new cost(f) and if the\n",
    "                # new cost is lower update the priority of the child in the priority queue, update the \n",
    "                # parent dictionary and update the g value of the node.\n",
    "                if curr_cell.g + 1 + grid[node_pos[0]][node_pos[1]].h < grid[node_pos[0]][node_pos[1]].f:\n",
    "                    number_of_clashes += 1 # increment the number of clashes by 1\n",
    "                    # To update the priority we remove the node from the sorted set (O(logn)) and reinsert with \n",
    "                    # new priority O(log(n)). \n",
    "                    open_list.remove((grid[node_pos[0]][node_pos[1]].f, grid[node_pos[0]][node_pos[1]].h, (grid[node_pos[0]][node_pos[1]].x, grid[node_pos[0]][node_pos[1]].y)))\n",
    "                    grid[node_pos[0]][node_pos[1]].g = curr_cell.g+1\n",
    "                    grid[node_pos[0]][node_pos[1]].set_h_value(goal_cell_ind[0], goal_cell_ind[1], heuristic, weight)\n",
    "                    open_list.add((grid[node_pos[0]][node_pos[1]].f, grid[node_pos[0]][node_pos[1]].h, (grid[node_pos[0]][node_pos[1]].x, grid[node_pos[0]][node_pos[1]].y)))\n",
    "                    parent_dict[(node_pos[0],node_pos[1])] = curr_cell # updating the parent dictionary\n",
    "            else:\n",
    "                # If the child is not visited update its g value, set its h and f value and add it to the \n",
    "                # children list after updating its parent.\n",
    "                grid[node_pos[0]][node_pos[1]].g = curr_cell.g + 1\n",
    "                grid[node_pos[0]][node_pos[1]].set_h_value(goal_cell_ind[0], goal_cell_ind[1], heuristic, weight)\n",
    "                children.append(grid[node_pos[0]][node_pos[1]])\n",
    "                parent_dict[(node_pos[0],node_pos[1])] = curr_cell\n",
    "        if(children == []): # If no valid child continue\n",
    "            continue\n",
    "        for child in children: # else if valid children exist add them to the open list and update the visited set.\n",
    "            open_list.add((child.f,child.h, (child.x, child.y)))\n",
    "            visited.add((child.x, child.y))\n",
    "    \n",
    "    return [], 0, 0"
   ]
  },
  {
   "cell_type": "markdown",
   "id": "ab6b4be8",
   "metadata": {},
   "source": [
    "### ------------------------------------------------------------------------------------------------------------------------------"
   ]
  },
  {
   "cell_type": "markdown",
   "id": "ee33785c",
   "metadata": {},
   "source": [
    "#### Explore path function"
   ]
  },
  {
   "cell_type": "code",
   "execution_count": 30,
   "id": "7a8d948c",
   "metadata": {},
   "outputs": [],
   "source": [
    "#function to explore path returned by A* algorithm with limited field of view (the bot can only see in the direction of its movement along the path). \n",
    "def explore_path_with_limited_view(path,bot_env ,grid, final_discovered_grid_world, examine_cost, target_cell_ind, movement_cost):\n",
    "    '''\n",
    "    This function helps move the agent along the path returned by A* with unidirectional field of view. The bot environment\n",
    "    and final discovered grid world are updated with status of cells along the path traversed.\n",
    "    '''\n",
    "    x = 0\n",
    "    y = 0\n",
    "    for i in range(len(path)): #looping over path list\n",
    "        x = path[i][0] # x coordinate of the current node\n",
    "        y = path[i][1] # y coordinate of the current node\n",
    "        movement_cost += 1\n",
    "        #update the bot environment and final discovered grid \n",
    "        bot_env[x][y].x = grid[x][y].x \n",
    "        bot_env[x][y].y = grid[x][y].y\n",
    "        bot_env[x][y].blocked = grid[x][y].blocked\n",
    "        bot_env[x][y].terrain = grid[x][y].terrain\n",
    "        bot_env[x][y].false_neg_rate = grid[x][y].false_neg_rate\n",
    "        \n",
    "        final_discovered_grid_world[x][y].x = grid[x][y].x\n",
    "        final_discovered_grid_world[x][y].y = grid[x][y].y\n",
    "        final_discovered_grid_world[x][y].blocked = grid[x][y].blocked\n",
    "        final_discovered_grid_world[x][y].terrain = grid[x][y].terrain\n",
    "        final_discovered_grid_world[x][y].false_neg_rate = grid[x][y].false_neg_rate\n",
    "        \n",
    "        if(grid[x][y].blocked): #if the current node is blocked node, return the path traversed till now.\n",
    "            movement_cost -= 1\n",
    "            assign_new_probability_when_new_block_disc(bot_env,x,y)\n",
    "            candidate_targets = choose_next_goal_cell(bot_env,path[i-1][0],path[i-1][1])\n",
    "            tar_ind = random.choice(candidate_targets)\n",
    "            new_goal_cell = tar_ind\n",
    "            return path[:i], new_goal_cell, False, examine_cost, movement_cost\n",
    "    \n",
    "    if find_target_in_goal_cell(bot_env,x,y, target_cell_ind):\n",
    "        examine_cost += 1\n",
    "        return path, True, examine_cost, movement_cost\n",
    "    else:\n",
    "        examine_cost += 1\n",
    "        assign_new_probability_when_target_not_found(bot_env, x, y)\n",
    "        candidate_targets = choose_next_goal_cell(bot_env,x,y)\n",
    "        tar_ind = random.choice(candidate_targets)\n",
    "        new_goal_cell = tar_ind\n",
    "        return path, new_goal_cell ,False, examine_cost, movement_cost"
   ]
  },
  {
   "cell_type": "markdown",
   "id": "e5df46e6",
   "metadata": {},
   "source": [
    "#### Explore path agent 7"
   ]
  },
  {
   "cell_type": "code",
   "execution_count": 31,
   "id": "6b558312",
   "metadata": {},
   "outputs": [],
   "source": [
    "#function to explore path returned by A* algorithm with limited field of view (the bot can only see in the direction of its movement along the path). \n",
    "def explore_path_with_limited_view_agent_7(path,bot_env ,grid, final_discovered_grid_world, examine_cost, target_cell_ind, movement_cost):\n",
    "    '''\n",
    "    This function helps move the agent along the path returned by A* with unidirectional field of view. The bot environment\n",
    "    and final discovered grid world are updated with status of cells along the path traversed.\n",
    "    '''\n",
    "    x = 0\n",
    "    y = 0\n",
    "    for i in range(len(path)): #looping over path list\n",
    "        x = path[i][0] # x coordinate of the current node\n",
    "        y = path[i][1] # y coordinate of the current node\n",
    "        movement_cost += 1\n",
    "        #update the bot environment and final discovered grid \n",
    "        bot_env[x][y].x = grid[x][y].x \n",
    "        bot_env[x][y].y = grid[x][y].y\n",
    "        bot_env[x][y].blocked = grid[x][y].blocked\n",
    "        bot_env[x][y].terrain = grid[x][y].terrain\n",
    "        bot_env[x][y].false_neg_rate = grid[x][y].false_neg_rate\n",
    "        \n",
    "        final_discovered_grid_world[x][y].x = grid[x][y].x\n",
    "        final_discovered_grid_world[x][y].y = grid[x][y].y\n",
    "        final_discovered_grid_world[x][y].blocked = grid[x][y].blocked\n",
    "        final_discovered_grid_world[x][y].terrain = grid[x][y].terrain\n",
    "        final_discovered_grid_world[x][y].false_neg_rate = grid[x][y].false_neg_rate\n",
    "        \n",
    "        if(grid[x][y].blocked): #if the current node is blocked node, return the path traversed till now.\n",
    "            movement_cost -= 1\n",
    "            assign_new_probability_when_new_block_disc(bot_env,x,y)\n",
    "            candidate_targets = choose_next_goal_cell_agent7(bot_env,path[i-1][0],path[i-1][1])\n",
    "            tar_ind = random.choice(candidate_targets)\n",
    "            new_goal_cell = tar_ind\n",
    "            return path[:i], new_goal_cell, False, examine_cost, movement_cost\n",
    "    \n",
    "    if find_target_in_goal_cell(bot_env,x,y, target_cell_ind):\n",
    "        examine_cost += 1\n",
    "        return path, True, examine_cost, movement_cost\n",
    "    else:\n",
    "        examine_cost += 1\n",
    "        assign_new_probability_when_target_not_found(bot_env, x, y)\n",
    "        candidate_targets = choose_next_goal_cell_agent7(bot_env,x,y)\n",
    "        tar_ind = random.choice(candidate_targets)\n",
    "        new_goal_cell = tar_ind\n",
    "        return path, new_goal_cell ,False, examine_cost, movement_cost"
   ]
  },
  {
   "cell_type": "markdown",
   "id": "5c40244d",
   "metadata": {},
   "source": [
    "#### Explore path agent 8"
   ]
  },
  {
   "cell_type": "code",
   "execution_count": 32,
   "id": "175bb879",
   "metadata": {},
   "outputs": [],
   "source": [
    "#function to explore path returned by A* algorithm with limited field of view (the bot can only see in the direction of its movement along the path). \n",
    "def explore_path_with_limited_view_agent_8(path,bot_env ,grid, final_discovered_grid_world, examine_cost, target_cell_ind, movement_cost):\n",
    "    '''\n",
    "    This function helps move the agent along the path returned by A* with unidirectional field of view. The bot environment\n",
    "    and final discovered grid world are updated with status of cells along the path traversed.\n",
    "    '''\n",
    "    x = 0\n",
    "    y = 0\n",
    "    for i in range(len(path)): #looping over path list\n",
    "        x = path[i][0] # x coordinate of the current node\n",
    "        y = path[i][1] # y coordinate of the current node\n",
    "        movement_cost += 1\n",
    "        #update the bot environment and final discovered grid \n",
    "        bot_env[x][y].x = grid[x][y].x \n",
    "        bot_env[x][y].y = grid[x][y].y\n",
    "        bot_env[x][y].blocked = grid[x][y].blocked\n",
    "        bot_env[x][y].terrain = grid[x][y].terrain\n",
    "        bot_env[x][y].false_neg_rate = grid[x][y].false_neg_rate\n",
    "        \n",
    "        final_discovered_grid_world[x][y].x = grid[x][y].x\n",
    "        final_discovered_grid_world[x][y].y = grid[x][y].y\n",
    "        final_discovered_grid_world[x][y].blocked = grid[x][y].blocked\n",
    "        final_discovered_grid_world[x][y].terrain = grid[x][y].terrain\n",
    "        final_discovered_grid_world[x][y].false_neg_rate = grid[x][y].false_neg_rate\n",
    "        \n",
    "        if(grid[x][y].blocked): #if the current node is blocked node, return the path traversed till now.\n",
    "            movement_cost -= 1\n",
    "            assign_new_probability_when_new_block_disc(bot_env,x,y)\n",
    "            candidate_targets = choose_next_goal_cell_agent8(bot_env,path[i-1][0],path[i-1][1])\n",
    "            tar_ind = random.choice(candidate_targets)\n",
    "            new_goal_cell = tar_ind\n",
    "            return path[:i], new_goal_cell, False, examine_cost, movement_cost\n",
    "    \n",
    "    if find_target_in_goal_cell(bot_env,x,y, target_cell_ind):\n",
    "        examine_cost += 1\n",
    "        return path, True, examine_cost, movement_cost\n",
    "    else:\n",
    "        examine_cost += 1\n",
    "        assign_new_probability_when_target_not_found(bot_env, x, y)\n",
    "        candidate_targets = choose_next_goal_cell_agent8(bot_env,x,y)\n",
    "        tar_ind = random.choice(candidate_targets)\n",
    "        new_goal_cell = tar_ind\n",
    "        return path, new_goal_cell ,False, examine_cost, movement_cost"
   ]
  },
  {
   "cell_type": "markdown",
   "id": "3a981af9",
   "metadata": {},
   "source": [
    "### ------------------------------------------------------------------------------------------------------------------------------"
   ]
  },
  {
   "cell_type": "markdown",
   "id": "dda3dcde",
   "metadata": {},
   "source": [
    "#### Repeated A*"
   ]
  },
  {
   "cell_type": "code",
   "execution_count": 33,
   "id": "afe8caf8",
   "metadata": {},
   "outputs": [],
   "source": [
    "# function to implement the A* algorithm\n",
    "def repeated_astar(bot_env, real_world_grid, start_cell_ind,target_cell_ind, heuristic, final_discovered_grid_world, weight=1, agent_type = None):\n",
    "    '''\n",
    "    This function is the implementation of the repeated A* algorithm. This function calls A* algorithm whenver a \n",
    "    blocked cell is encountered along the path returned by A*.\n",
    "    '''\n",
    "    count = 0\n",
    "    paths = [] # stores the path to be returned.\n",
    "    cp = 0  # keeps count of the total number of cells processed in each A* call.\n",
    "    #while the A* algorithm doesn't return a path or the maze is found to be not solvable     \n",
    "    planning_time = 0\n",
    "    nodes_disc = 0\n",
    "    assign_initial_probability(bot_env)\n",
    "    if agent_type == 6:\n",
    "        goal_cell_ind = random.choice(choose_next_goal_cell(bot_env, start_cell_ind[0], start_cell_ind[1]))\n",
    "        \n",
    "    elif agent_type == 7:\n",
    "        goal_cell_ind = random.choice(choose_next_goal_cell_agent7(bot_env, start_cell_ind[0], start_cell_ind[1]))\n",
    "    else:\n",
    "        goal_cell_ind = random.choice(choose_next_goal_cell_agent8(bot_env, start_cell_ind[0], start_cell_ind[1]))\n",
    "    examine_cost = 0\n",
    "    movement_cost = -1\n",
    "    while(1):\n",
    "#         print()\n",
    "#         print(disp_prob_of_grid(bot_env))\n",
    "#         s = 0\n",
    "#         for i in range(len(bot_env)):\n",
    "#             for j in range(len(bot_env[i])):\n",
    "#                 s+= bot_env[i][j].prob_of_containing_target\n",
    "#         print(\"Sum of prob:\",s)\n",
    "        count += 1\n",
    "        t = time.time()\n",
    "        path, cells_processed, n_c = Astar(bot_env, start_cell_ind, goal_cell_ind, heuristic, weight) # call A* with current knowledge of the grid\n",
    "        planning_time += time.time() - t\n",
    "        cp += cells_processed # add the number of cells processed to the variable cp which keeps the total number of cells processed for each iteration of A*\n",
    "        \n",
    "#         print(\"Path:\", path)\n",
    "#         print(\"start_cell_ind:\", start_cell_ind)\n",
    "#         print(\"goal_cell_ind:\", goal_cell_ind)\n",
    "        \n",
    "        if(path == []): # If A* doesn't return a path, path doesn't exist. Break from the loop and print \"Maze is not solvable\"\n",
    "            \n",
    "#             print(\"Path returned Empty\")\n",
    "            bot_env[goal_cell_ind[0]][goal_cell_ind[1]].blocked = True\n",
    "            bot_env[goal_cell_ind[0]][goal_cell_ind[1]].terrain = None\n",
    "            bot_env[goal_cell_ind[0]][goal_cell_ind[1]].false_neg_rate = 0\n",
    "        \n",
    "            final_discovered_grid_world[goal_cell_ind[0]][goal_cell_ind[1]].blocked = True\n",
    "            final_discovered_grid_world[goal_cell_ind[0]][goal_cell_ind[1]].terrain = None\n",
    "            final_discovered_grid_world[goal_cell_ind[0]][goal_cell_ind[1]].false_neg_rate = 0\n",
    "            \n",
    "            assign_new_probability_when_new_block_disc(bot_env,goal_cell_ind[0],goal_cell_ind[1])\n",
    "            if agent_type == 6:\n",
    "                candidate_targets = choose_next_goal_cell(bot_env,start_cell_ind[0],start_cell_ind[1])\n",
    "                tar_ind = random.choice(candidate_targets)\n",
    "                goal_cell_ind = tar_ind\n",
    "                continue\n",
    "            elif agent_type == 7:\n",
    "                candidate_targets = choose_next_goal_cell_agent7(bot_env,start_cell_ind[0],start_cell_ind[1])\n",
    "                tar_ind = random.choice(candidate_targets)\n",
    "                goal_cell_ind = tar_ind\n",
    "                continue\n",
    "            else:\n",
    "                candidate_targets = choose_next_goal_cell_agent8(bot_env,start_cell_ind[0],start_cell_ind[1])\n",
    "                tar_ind = random.choice(candidate_targets)\n",
    "                goal_cell_ind = tar_ind\n",
    "                continue\n",
    "            \n",
    "        else:  # If path exists, do this:\n",
    "            if agent_type == 6:\n",
    "                params = explore_path_with_limited_view(path,bot_env,real_world_grid, final_discovered_grid_world, examine_cost, target_cell_ind, movement_cost) #explore path with limited view\n",
    "            elif agent_type == 7:\n",
    "                params = explore_path_with_limited_view_agent_7(path,bot_env,real_world_grid, final_discovered_grid_world, examine_cost, target_cell_ind, movement_cost) #explore path with limited view\n",
    "            else:\n",
    "                params = explore_path_with_limited_view_agent_8(path,bot_env,real_world_grid, final_discovered_grid_world, examine_cost, target_cell_ind, movement_cost) #explore path with limited view\n",
    "            p = params[0]\n",
    "            paths.append(p)  # append the path returned to paths  \n",
    "            \n",
    "            if(params[1] == True):\n",
    "                examine_cost = params[2]\n",
    "                movement_cost = params[3]\n",
    "                return paths, cp, count, planning_time, examine_cost, movement_cost\n",
    "            else:\n",
    "#                 print(\"Target was not found in goal cell or blockcell was encountered\")\n",
    "                start_cell_ind = p[-1]\n",
    "                goal_cell_ind = params[1]\n",
    "                examine_cost = params[3]\n",
    "                movement_cost = params[4]-1"
   ]
  },
  {
   "cell_type": "markdown",
   "id": "153cbd42",
   "metadata": {},
   "source": [
    "### -----------------------------------------------------------------------------------------------------------------------------"
   ]
  },
  {
   "cell_type": "markdown",
   "id": "af52f714",
   "metadata": {},
   "source": [
    "#### Comparison of Agent 6 and Agent 7"
   ]
  },
  {
   "cell_type": "code",
   "execution_count": 34,
   "id": "8ca13c0f",
   "metadata": {
    "scrolled": true
   },
   "outputs": [
    {
     "name": "stderr",
     "output_type": "stream",
     "text": [
      "100%|██████████| 100/100 [34:55<00:00, 20.96s/it]\n"
     ]
    }
   ],
   "source": [
    "count = 0\n",
    "cost_agent_6 = []\n",
    "cost_agent_7 = []\n",
    "cost_agent_8 = []\n",
    "examination_cost_agent_6 = []\n",
    "examination_cost_agent_7 = []\n",
    "examination_cost_agent_8 = []\n",
    "movement_cost_agent_6 = []\n",
    "movement_cost_agent_7 = []\n",
    "movement_cost_agent_8 = []\n",
    "\n",
    "pbar = tqdm(total=100)\n",
    "while(count < 100):\n",
    "    real_world_grid, start_cell_ind, target_ind = gen_env(0.3,50)\n",
    "    real_world_grid2 = real_world_grid.copy()\n",
    "    real_world_grid3 = real_world_grid.copy()\n",
    "    \n",
    "    if is_solvable(real_world_grid, start_cell_ind, target_ind):\n",
    "        count += 1\n",
    "    else:\n",
    "        continue\n",
    "    \n",
    "    bot_env = gen_env(0,50)\n",
    "    final_discovered_grid_world = gen_env(1,50)\n",
    "    output = repeated_astar(bot_env,real_world_grid,start_cell_ind,target_ind,'m',final_discovered_grid_world,6)\n",
    "    cost_6 = output[5]+output[4]\n",
    "    cost_agent_6.append(cost_6)\n",
    "    movement_cost_agent_6.append(output[5])\n",
    "    examination_cost_agent_6.append(output[4])\n",
    "    \n",
    "    bot_env_2 = gen_env(0,50)\n",
    "    final_discovered_grid_world_2 = gen_env(1,50)\n",
    "    output = repeated_astar(bot_env_2,real_world_grid2,start_cell_ind,target_ind,'m',final_discovered_grid_world_2,7)\n",
    "    cost_7 = output[5]+output[4]\n",
    "    cost_agent_7.append(cost_7)\n",
    "    movement_cost_agent_7.append(output[5])\n",
    "    examination_cost_agent_7.append(output[4])\n",
    "    \n",
    "    bot_env_3 = gen_env(0,50)\n",
    "    final_discovered_grid_world_3 = gen_env(1,50)\n",
    "    output = repeated_astar(bot_env_3,real_world_grid3,start_cell_ind,target_ind,'m',final_discovered_grid_world_3,8)\n",
    "    cost_8 = output[5]+output[4]\n",
    "    cost_agent_8.append(cost_8)\n",
    "    movement_cost_agent_8.append(output[5])\n",
    "    examination_cost_agent_8.append(output[4])\n",
    "    \n",
    "    pbar.update(1)\n",
    "pbar.close()"
   ]
  },
  {
   "cell_type": "code",
   "execution_count": 35,
   "id": "ac089f40",
   "metadata": {},
   "outputs": [
    {
     "data": {
      "text/plain": [
       "7075.97"
      ]
     },
     "execution_count": 35,
     "metadata": {},
     "output_type": "execute_result"
    }
   ],
   "source": [
    "sum(cost_agent_6)/100"
   ]
  },
  {
   "cell_type": "code",
   "execution_count": 36,
   "id": "cf11ffda",
   "metadata": {},
   "outputs": [
    {
     "data": {
      "text/plain": [
       "8562.94"
      ]
     },
     "execution_count": 36,
     "metadata": {},
     "output_type": "execute_result"
    }
   ],
   "source": [
    "sum(cost_agent_7)/100"
   ]
  },
  {
   "cell_type": "code",
   "execution_count": 37,
   "id": "13a737a6",
   "metadata": {},
   "outputs": [
    {
     "data": {
      "text/plain": [
       "7470.49"
      ]
     },
     "execution_count": 37,
     "metadata": {},
     "output_type": "execute_result"
    }
   ],
   "source": [
    "sum(cost_agent_8)/100"
   ]
  },
  {
   "cell_type": "code",
   "execution_count": 43,
   "id": "5ad469b5",
   "metadata": {},
   "outputs": [
    {
     "data": {
      "text/plain": [
       "3088.39"
      ]
     },
     "execution_count": 43,
     "metadata": {},
     "output_type": "execute_result"
    }
   ],
   "source": [
    "sum(examination_cost_agent_6)/100"
   ]
  },
  {
   "cell_type": "code",
   "execution_count": 44,
   "id": "b8d15135",
   "metadata": {},
   "outputs": [
    {
     "data": {
      "text/plain": [
       "3084.73"
      ]
     },
     "execution_count": 44,
     "metadata": {},
     "output_type": "execute_result"
    }
   ],
   "source": [
    "sum(examination_cost_agent_7)/100"
   ]
  },
  {
   "cell_type": "code",
   "execution_count": 45,
   "id": "0fdc02d6",
   "metadata": {},
   "outputs": [
    {
     "data": {
      "text/plain": [
       "2893.38"
      ]
     },
     "execution_count": 45,
     "metadata": {},
     "output_type": "execute_result"
    }
   ],
   "source": [
    "sum(examination_cost_agent_8)/100"
   ]
  },
  {
   "cell_type": "code",
   "execution_count": 46,
   "id": "6fff213a",
   "metadata": {},
   "outputs": [
    {
     "data": {
      "text/plain": [
       "5457.37"
      ]
     },
     "execution_count": 46,
     "metadata": {},
     "output_type": "execute_result"
    }
   ],
   "source": [
    "sum(movement_cost_agent_6)/100"
   ]
  },
  {
   "cell_type": "code",
   "execution_count": 47,
   "id": "f272d70b",
   "metadata": {},
   "outputs": [
    {
     "data": {
      "text/plain": [
       "5495.05"
      ]
     },
     "execution_count": 47,
     "metadata": {},
     "output_type": "execute_result"
    }
   ],
   "source": [
    "sum(movement_cost_agent_7)/100"
   ]
  },
  {
   "cell_type": "code",
   "execution_count": 48,
   "id": "f140c0d2",
   "metadata": {},
   "outputs": [
    {
     "data": {
      "text/plain": [
       "5133.03"
      ]
     },
     "execution_count": 48,
     "metadata": {},
     "output_type": "execute_result"
    }
   ],
   "source": [
    "sum(movement_cost_agent_8)/100"
   ]
  },
  {
   "cell_type": "code",
   "execution_count": 49,
   "id": "67a81cde",
   "metadata": {},
   "outputs": [
    {
     "data": {
      "text/plain": [
       "<matplotlib.legend.Legend at 0x7fa75967deb0>"
      ]
     },
     "execution_count": 49,
     "metadata": {},
     "output_type": "execute_result"
    },
    {
     "data": {
      "image/png": "[encoded data removed]",
      "text/plain": [
       "<Figure size 432x288 with 1 Axes>"
      ]
     },
     "metadata": {
      "needs_background": "light"
     },
     "output_type": "display_data"
    }
   ],
   "source": [
    "plt.scatter(range(0,100),cost_agent_6)\n",
    "plt.scatter(range(0,100),cost_agent_7)\n",
    "plt.legend(['Agent 6', 'Agent 7'])"
   ]
  },
  {
   "cell_type": "code",
   "execution_count": 226,
   "id": "175ab736",
   "metadata": {},
   "outputs": [
    {
     "data": {
      "text/plain": [
       "<matplotlib.legend.Legend at 0x7fe7bb8b82e0>"
      ]
     },
     "execution_count": 226,
     "metadata": {},
     "output_type": "execute_result"
    },
    {
     "data": {
      "image/png": "[encoded data removed]",
      "text/plain": [
       "<Figure size 432x288 with 1 Axes>"
      ]
     },
     "metadata": {
      "needs_background": "light"
     },
     "output_type": "display_data"
    }
   ],
   "source": [
    "plt.scatter(range(0,100),examination_cost_agent_6)\n",
    "plt.scatter(range(0,100),examination_cost_agent_7)\n",
    "plt.legend(['Agent 6', 'Agent 7'])"
   ]
  },
  {
   "cell_type": "code",
   "execution_count": 227,
   "id": "2a660cf8",
   "metadata": {},
   "outputs": [
    {
     "data": {
      "text/plain": [
       "<matplotlib.legend.Legend at 0x7fe7bc122280>"
      ]
     },
     "execution_count": 227,
     "metadata": {},
     "output_type": "execute_result"
    },
    {
     "data": {
      "image/png": "[encoded data removed]",
      "text/plain": [
       "<Figure size 432x288 with 1 Axes>"
      ]
     },
     "metadata": {
      "needs_background": "light"
     },
     "output_type": "display_data"
    }
   ],
   "source": [
    "plt.scatter(range(0,100),movement_cost_agent_6)\n",
    "plt.scatter(range(0,100),movement_cost_agent_7)\n",
    "plt.legend(['Agent 6', 'Agent 7'])"
   ]
  },
  {
   "cell_type": "code",
   "execution_count": 234,
   "id": "02d98a56",
   "metadata": {},
   "outputs": [
    {
     "data": {
      "text/plain": [
       "<matplotlib.legend.Legend at 0x7fe7c9d9f7f0>"
      ]
     },
     "execution_count": 234,
     "metadata": {},
     "output_type": "execute_result"
    },
    {
     "data": {
      "image/png": "[encoded data removed]",
      "text/plain": [
       "<Figure size 432x288 with 1 Axes>"
      ]
     },
     "metadata": {
      "needs_background": "light"
     },
     "output_type": "display_data"
    }
   ],
   "source": [
    "plt.violinplot(cost_agent_6)\n",
    "plt.violinplot(cost_agent_7)\n",
    "plt.legend(['Agent 6', 'Agent 7'])"
   ]
  },
  {
   "cell_type": "code",
   "execution_count": 235,
   "id": "08d824a1",
   "metadata": {},
   "outputs": [
    {
     "data": {
      "text/plain": [
       "<matplotlib.legend.Legend at 0x7fe7a83f6df0>"
      ]
     },
     "execution_count": 235,
     "metadata": {},
     "output_type": "execute_result"
    },
    {
     "data": {
      "image/png": "[encoded data removed]",
      "text/plain": [
       "<Figure size 432x288 with 1 Axes>"
      ]
     },
     "metadata": {
      "needs_background": "light"
     },
     "output_type": "display_data"
    }
   ],
   "source": [
    "plt.violinplot(examination_cost_agent_6)\n",
    "plt.violinplot(examination_cost_agent_7)\n",
    "plt.legend(['Agent 6', 'Agent 7'])"
   ]
  },
  {
   "cell_type": "code",
   "execution_count": 236,
   "id": "eb445b09",
   "metadata": {},
   "outputs": [
    {
     "data": {
      "text/plain": [
       "<matplotlib.legend.Legend at 0x7fe7a83eee50>"
      ]
     },
     "execution_count": 236,
     "metadata": {},
     "output_type": "execute_result"
    },
    {
     "data": {
      "image/png": "[encoded data removed]",
      "text/plain": [
       "<Figure size 432x288 with 1 Axes>"
      ]
     },
     "metadata": {
      "needs_background": "light"
     },
     "output_type": "display_data"
    }
   ],
   "source": [
    "plt.violinplot(movement_cost_agent_6)\n",
    "plt.violinplot(movement_cost_agent_7)\n",
    "plt.legend(['Agent 6', 'Agent 7'])"
   ]
  },
  {
   "cell_type": "code",
   "execution_count": 241,
   "id": "bf349acd",
   "metadata": {},
   "outputs": [
    {
     "data": {
      "image/png": "[encoded data removed]",
      "text/plain": [
       "<Figure size 720x504 with 1 Axes>"
      ]
     },
     "metadata": {
      "needs_background": "light"
     },
     "output_type": "display_data"
    }
   ],
   "source": [
    "np.random.seed(10) \n",
    "data = [cost_agent_6, cost_agent_7] \n",
    "   \n",
    "fig = plt.figure(figsize =(10, 7)) \n",
    "   \n",
    "# Creating axes instance \n",
    "ax = fig.add_axes([0, 0, 0.5, 0.5]) \n",
    "   \n",
    "# Creating plot \n",
    "bp = ax.boxplot(data, showfliers=False, notch=True, patch_artist = True) \n",
    "\n",
    "colors = ['#0000FF', '#00FF00'] \n",
    "   \n",
    "for patch, color in zip(bp['boxes'], colors): \n",
    "    patch.set_facecolor(color) \n",
    "    \n",
    "ax.legend([bp[\"boxes\"][0], bp[\"boxes\"][1]], ['Agent 6', 'Agent 7'])\n",
    "# show plot \n",
    "plt.show() \n"
   ]
  },
  {
   "cell_type": "code",
   "execution_count": 232,
   "id": "6f160fd5",
   "metadata": {},
   "outputs": [
    {
     "data": {
      "image/png": "[encoded data removed]",
      "text/plain": [
       "<Figure size 720x504 with 1 Axes>"
      ]
     },
     "metadata": {
      "needs_background": "light"
     },
     "output_type": "display_data"
    }
   ],
   "source": [
    "np.random.seed(10) \n",
    "data = [examination_cost_agent_6, examination_cost_agent_7] \n",
    "   \n",
    "fig = plt.figure(figsize =(10, 7)) \n",
    "   \n",
    "# Creating axes instance \n",
    "ax = fig.add_axes([0, 0, 0.5, 0.5]) \n",
    "   \n",
    "# Creating plot \n",
    "bp = ax.boxplot(data, showfliers=False, notch=True, patch_artist = True) \n",
    "\n",
    "colors = ['#0000FF', '#00FF00'] \n",
    "   \n",
    "for patch, color in zip(bp['boxes'], colors): \n",
    "    patch.set_facecolor(color) \n",
    "    \n",
    "ax.legend([bp[\"boxes\"][0], bp[\"boxes\"][1]], ['Agent 6', 'Agent 7'])\n",
    "# show plot \n",
    "plt.show() \n"
   ]
  },
  {
   "cell_type": "code",
   "execution_count": 233,
   "id": "01aa20c7",
   "metadata": {},
   "outputs": [
    {
     "data": {
      "image/png": "[encoded data removed]",
      "text/plain": [
       "<Figure size 720x504 with 1 Axes>"
      ]
     },
     "metadata": {
      "needs_background": "light"
     },
     "output_type": "display_data"
    }
   ],
   "source": [
    "np.random.seed(10) \n",
    "data = [movement_cost_agent_6, movement_cost_agent_7] \n",
    "   \n",
    "fig = plt.figure(figsize =(10, 7)) \n",
    "   \n",
    "# Creating axes instance \n",
    "ax = fig.add_axes([0, 0, 0.5, 0.5]) \n",
    "   \n",
    "# Creating plot \n",
    "bp = ax.boxplot(data, showfliers=False, notch=True, patch_artist = True) \n",
    "\n",
    "colors = ['#0000FF', '#00FF00'] \n",
    "   \n",
    "for patch, color in zip(bp['boxes'], colors): \n",
    "    patch.set_facecolor(color) \n",
    "    \n",
    "ax.legend([bp[\"boxes\"][0], bp[\"boxes\"][1]], ['Agent 6', 'Agent 7'])\n",
    "# show plot \n",
    "plt.show() \n"
   ]
  },
  {
   "cell_type": "code",
   "execution_count": 49,
   "id": "e7ff1511",
   "metadata": {},
   "outputs": [],
   "source": [
    "def make_grid(g):\n",
    "    grid = []\n",
    "    for i in range(50):\n",
    "        a = []\n",
    "        for j in range(50):\n",
    "            c = cell(i,j)\n",
    "            if(g[50*i+j] == 'X'):\n",
    "                c.blocked = True\n",
    "            else:\n",
    "                if g[i+j] == 'F':\n",
    "                    c.false_neg_rate = 0.8\n",
    "                    c.terrain = 'Forest'\n",
    "                elif g[i+j] == 'P':\n",
    "                    c.false_neg_rate = 0.2\n",
    "                    c.terrain = 'flat'\n",
    "                else:\n",
    "                    c.false_neg_rate = 0.5\n",
    "                    c.terrain = 'hill'\n",
    "            a.append(c)\n",
    "        grid.append(a)\n",
    "    return grid"
   ]
  },
  {
   "cell_type": "code",
   "execution_count": 50,
   "id": "4340aff5",
   "metadata": {
    "scrolled": true
   },
   "outputs": [
    {
     "name": "stderr",
     "output_type": "stream",
     "text": [
      "100%|██████████| 100/100 [36:29<00:00, 21.89s/it]\n"
     ]
    }
   ],
   "source": [
    "count = 0\n",
    "cost_agent_6 = []\n",
    "cost_agent_7 = []\n",
    "cost_agent_8 = []\n",
    "examination_cost_agent_6 = []\n",
    "examination_cost_agent_7 = []\n",
    "examination_cost_agent_8 = []\n",
    "movement_cost_agent_6 = []\n",
    "movement_cost_agent_7 = []\n",
    "movement_cost_agent_8 = []\n",
    "\n",
    "with open('p0.3.txt') as f:\n",
    "    g = f.readlines()\n",
    "with open('project-3-srcs.pkl', 'rb') as f:\n",
    "    sources = pickle.load(f)\n",
    "with open('project-3-tgts.pkl', 'rb') as f:\n",
    "    targets = pickle.load(f)\n",
    "\n",
    "\n",
    "for i in tqdm(range(100)):\n",
    "    real_world_grid = make_grid(g[i])\n",
    "    real_world_grid2 = real_world_grid.copy()\n",
    "    real_world_grid3 = real_world_grid.copy()\n",
    "    start_cell_ind = sources[i]\n",
    "    target_ind = targets[i]\n",
    "    \n",
    "    bot_env = gen_env(0,50)\n",
    "    final_discovered_grid_world = gen_env(1,50)\n",
    "    output = repeated_astar(bot_env,real_world_grid,start_cell_ind,target_ind,'m',final_discovered_grid_world,6)\n",
    "    cost_6 = output[5]+output[4]\n",
    "    cost_agent_6.append(cost_6)\n",
    "    movement_cost_agent_6.append(output[5])\n",
    "    examination_cost_agent_6.append(output[4])\n",
    "    \n",
    "    bot_env2 = gen_env(0,50)\n",
    "    final_discovered_grid_world = gen_env(1,50)\n",
    "    output = repeated_astar(bot_env2,real_world_grid2,start_cell_ind,target_ind,'m',final_discovered_grid_world,7)\n",
    "    cost_7 = output[5]+output[4]\n",
    "    cost_agent_7.append(cost_7)\n",
    "    movement_cost_agent_7.append(output[5])\n",
    "    examination_cost_agent_7.append(output[4])\n",
    "    \n",
    "    bot_env3 = gen_env(0,50)\n",
    "    final_discovered_grid_world = gen_env(1,50)\n",
    "    output = repeated_astar(bot_env3,real_world_grid3,start_cell_ind,target_ind,'m',final_discovered_grid_world,8)\n",
    "    cost_8 = output[5]+output[4]\n",
    "    cost_agent_8.append(cost_8)\n",
    "    movement_cost_agent_8.append(output[5])\n",
    "    examination_cost_agent_8.append(output[4])"
   ]
  },
  {
   "cell_type": "code",
   "execution_count": 51,
   "id": "7a393124",
   "metadata": {},
   "outputs": [
    {
     "data": {
      "text/plain": [
       "8877.59"
      ]
     },
     "execution_count": 51,
     "metadata": {},
     "output_type": "execute_result"
    }
   ],
   "source": [
    "sum(cost_agent_6)/100"
   ]
  },
  {
   "cell_type": "code",
   "execution_count": 52,
   "id": "4ee62ae3",
   "metadata": {},
   "outputs": [
    {
     "data": {
      "text/plain": [
       "7288.95"
      ]
     },
     "execution_count": 52,
     "metadata": {},
     "output_type": "execute_result"
    }
   ],
   "source": [
    "sum(cost_agent_7)/100"
   ]
  },
  {
   "cell_type": "code",
   "execution_count": 53,
   "id": "29937773",
   "metadata": {},
   "outputs": [
    {
     "data": {
      "text/plain": [
       "8320.19"
      ]
     },
     "execution_count": 53,
     "metadata": {},
     "output_type": "execute_result"
    }
   ],
   "source": [
    "sum(cost_agent_8)/100"
   ]
  },
  {
   "cell_type": "code",
   "execution_count": 50,
   "id": "8939cf85",
   "metadata": {},
   "outputs": [
    {
     "data": {
      "text/plain": [
       "5737.47"
      ]
     },
     "execution_count": 50,
     "metadata": {},
     "output_type": "execute_result"
    }
   ],
   "source": [
    "sum(movement_cost_agent_6)/100"
   ]
  },
  {
   "cell_type": "code",
   "execution_count": 51,
   "id": "0a6b66c8",
   "metadata": {},
   "outputs": [
    {
     "data": {
      "text/plain": [
       "6072.69"
      ]
     },
     "execution_count": 51,
     "metadata": {},
     "output_type": "execute_result"
    }
   ],
   "source": [
    "sum(movement_cost_agent_7)/100"
   ]
  },
  {
   "cell_type": "code",
   "execution_count": 52,
   "id": "045f7c8e",
   "metadata": {},
   "outputs": [
    {
     "data": {
      "text/plain": [
       "4713.23"
      ]
     },
     "execution_count": 52,
     "metadata": {},
     "output_type": "execute_result"
    }
   ],
   "source": [
    "sum(movement_cost_agent_8)/100"
   ]
  },
  {
   "cell_type": "code",
   "execution_count": 53,
   "id": "622e87a7",
   "metadata": {},
   "outputs": [
    {
     "data": {
      "text/plain": [
       "3117.36"
      ]
     },
     "execution_count": 53,
     "metadata": {},
     "output_type": "execute_result"
    }
   ],
   "source": [
    "sum(examination_cost_agent_6)/100"
   ]
  },
  {
   "cell_type": "code",
   "execution_count": 54,
   "id": "6114add0",
   "metadata": {},
   "outputs": [
    {
     "data": {
      "text/plain": [
       "3282.52"
      ]
     },
     "execution_count": 54,
     "metadata": {},
     "output_type": "execute_result"
    }
   ],
   "source": [
    "sum(examination_cost_agent_7)/100"
   ]
  },
  {
   "cell_type": "code",
   "execution_count": 55,
   "id": "51c2624f",
   "metadata": {},
   "outputs": [
    {
     "data": {
      "text/plain": [
       "2527.95"
      ]
     },
     "execution_count": 55,
     "metadata": {},
     "output_type": "execute_result"
    }
   ],
   "source": [
    "sum(examination_cost_agent_8)/100"
   ]
  },
  {
   "cell_type": "markdown",
   "id": "96e05bae",
   "metadata": {},
   "source": [
    "#### Comparison of agent 6 and agent 7"
   ]
  },
  {
   "cell_type": "code",
   "execution_count": 41,
   "id": "557d3e7d",
   "metadata": {},
   "outputs": [],
   "source": [
    "import pickle\n",
    "with open('/Users/vedantgupta/Desktop/Intro to AI/Project 3/Outputs/Agent 6/Agent-6_examine_cost_100_1.pkl', 'rb') as f:\n",
    "    agent_6_examine_cost = pickle.load(f)\n",
    "with open('/Users/vedantgupta/Desktop/Intro to AI/Project 3/Outputs/Agent 6/Agent-6_movement_cost_100_1.pkl', 'rb') as f:\n",
    "    agent_6_movement_cost = pickle.load(f)\n",
    "with open('/Users/vedantgupta/Desktop/Intro to AI/Project 3/Outputs/Agent 6/Agent-6_total_cost_100_1.pkl', 'rb') as f:\n",
    "    agent_6_total_cost = pickle.load(f)\n",
    "with open('/Users/vedantgupta/Desktop/Intro to AI/Project 3/Outputs/Agent 7/Agent-7_examine_cost_100_1.pkl', 'rb') as f:\n",
    "    agent_7_examine_cost = pickle.load(f)\n",
    "with open('/Users/vedantgupta/Desktop/Intro to AI/Project 3/Outputs/Agent 7/Agent-7_movement_cost_100_1.pkl', 'rb') as f:\n",
    "    agent_7_movement_cost = pickle.load(f)\n",
    "with open('/Users/vedantgupta/Desktop/Intro to AI/Project 3/Outputs/Agent 7/Agent-7_total_cost_100_1.pkl', 'rb') as f:\n",
    "    agent_7_total_cost = pickle.load(f)\n",
    "with open('/Users/vedantgupta/Desktop/Intro to AI/Project 3/Outputs/Agent 8/Agent-8_examine_cost_100_1.pkl', 'rb') as f:\n",
    "    agent_8_examine_cost = pickle.load(f)\n",
    "with open('/Users/vedantgupta/Desktop/Intro to AI/Project 3/Outputs/Agent 8/Agent-8_movement_cost_100_1.pkl', 'rb') as f:\n",
    "    agent_8_movement_cost = pickle.load(f)\n",
    "with open('/Users/vedantgupta/Desktop/Intro to AI/Project 3/Outputs/Agent 8/Agent-8_total_cost_100_1.pkl', 'rb') as f:\n",
    "    agent_8_total_cost = pickle.load(f)\n",
    "with open('/Users/vedantgupta/Desktop/Intro to AI/Project 3/Outputs/Agent 9/Agent-9_examine_cost_100_1.pkl', 'rb') as f:\n",
    "    agent_9_examine_cost = pickle.load(f)\n",
    "with open('/Users/vedantgupta/Desktop/Intro to AI/Project 3/Outputs/Agent 9/Agent-9_movement_cost_100_1.pkl', 'rb') as f:\n",
    "    agent_9_movement_cost = pickle.load(f)\n",
    "with open('/Users/vedantgupta/Desktop/Intro to AI/Project 3/Outputs/Agent 9/Agent-9_total_cost_100_1.pkl', 'rb') as f:\n",
    "    agent_9_total_cost = pickle.load(f)"
   ]
  },
  {
   "cell_type": "code",
   "execution_count": 42,
   "id": "2b4e4fd3",
   "metadata": {},
   "outputs": [
    {
     "data": {
      "text/plain": [
       "<matplotlib.legend.Legend at 0x7fa91943bb80>"
      ]
     },
     "execution_count": 42,
     "metadata": {},
     "output_type": "execute_result"
    },
    {
     "data": {
      "image/png": "[encoded data removed]",
      "text/plain": [
       "<Figure size 432x288 with 1 Axes>"
      ]
     },
     "metadata": {
      "needs_background": "light"
     },
     "output_type": "display_data"
    }
   ],
   "source": [
    "plt.scatter(range(100), agent_6_examine_cost)\n",
    "plt.scatter(range(100), agent_7_examine_cost)\n",
    "plt.scatter(range(100), agent_8_examine_cost)\n",
    "plt.scatter(range(100), agent_9_examine_cost)\n",
    "plt.xlabel('Data Point')\n",
    "plt.ylabel('Examination Cost')\n",
    "plt.legend(['Agent 6', 'Agent 7', 'Agent 8', 'Agent 9'])"
   ]
  },
  {
   "cell_type": "code",
   "execution_count": 47,
   "id": "a1f3406e",
   "metadata": {},
   "outputs": [
    {
     "data": {
      "text/plain": [
       "<AxesSubplot:xlabel='Agent', ylabel='examine_cost'>"
      ]
     },
     "execution_count": 47,
     "metadata": {},
     "output_type": "execute_result"
    },
    {
     "data": {
      "image/png": "[encoded data removed]",
      "text/plain": [
       "<Figure size 432x288 with 1 Axes>"
      ]
     },
     "metadata": {
      "needs_background": "light"
     },
     "output_type": "display_data"
    }
   ],
   "source": [
    "A1 = pd.DataFrame(agent_6_examine_cost, columns=['examine_cost'])\n",
    "A1['Agent'] = \"Agent 6\"\n",
    "A2 = pd.DataFrame(agent_7_examine_cost, columns=['examine_cost'])\n",
    "A2['Agent'] = \"Agent 7\"\n",
    "A3 = pd.DataFrame(agent_8_examine_cost, columns=['examine_cost'])\n",
    "A3['Agent'] = \"Agent 8\"\n",
    "# A4 = pd.DataFrame(agent_9_examine_cost, columns=['examine_cost'])\n",
    "# A4['Agent'] = \"Agent 9\"\n",
    "data = pd.concat([A1, A2, A3])\n",
    "sns.violinplot(x='Agent',y='examine_cost',data=data, inner=\"box\", palette=\"Set3\", cut=2, linewidth=3)"
   ]
  },
  {
   "cell_type": "code",
   "execution_count": 49,
   "id": "44714c18",
   "metadata": {},
   "outputs": [
    {
     "data": {
      "image/png": "[encoded data removed]",
      "text/plain": [
       "<Figure size 720x504 with 1 Axes>"
      ]
     },
     "metadata": {
      "needs_background": "light"
     },
     "output_type": "display_data"
    }
   ],
   "source": [
    "np.random.seed(10) \n",
    "data = [agent_6_examine_cost, agent_7_examine_cost, agent_8_examine_cost, agent_9_examine_cost] \n",
    "   \n",
    "fig = plt.figure(figsize =(10, 7)) \n",
    "   \n",
    "# Creating axes instance \n",
    "ax = fig.add_axes([0, 0, 0.5, 0.5]) \n",
    "   \n",
    "# Creating plot \n",
    "bp = ax.boxplot(data, showfliers=False, notch=True, patch_artist = True) \n",
    "\n",
    "colors = ['#8BF7B5', '#F7F78B', '#D6C6FC', '#FF0000'] \n",
    "   \n",
    "for patch, color in zip(bp['boxes'], colors): \n",
    "    patch.set_facecolor(color) \n",
    "    \n",
    "ax.legend([bp[\"boxes\"][0], bp[\"boxes\"][1], bp[\"boxes\"][2], bp[\"boxes\"][3]], ['Agent 6', 'Agent 7', 'Agent 8', 'Agent 9'])\n",
    "# ax.legend([bp[\"boxes\"][0], bp[\"boxes\"][1]], ['Agent 6', 'Agent 7'])\n",
    "# show plot\n",
    "plt.ylabel('Examination Cost')\n",
    "plt.show() "
   ]
  },
  {
   "cell_type": "code",
   "execution_count": 57,
   "id": "11b2d8a4",
   "metadata": {},
   "outputs": [
    {
     "data": {
      "image/png": "[encoded data removed]",
      "text/plain": [
       "<Figure size 720x504 with 1 Axes>"
      ]
     },
     "metadata": {
      "needs_background": "light"
     },
     "output_type": "display_data"
    }
   ],
   "source": [
    "np.random.seed(10) \n",
    "data = [agent_9_examine_cost] \n",
    "   \n",
    "fig = plt.figure(figsize =(10, 7)) \n",
    "   \n",
    "# Creating axes instance \n",
    "ax = fig.add_axes([0, 0, 0.5, 0.5]) \n",
    "   \n",
    "# Creating plot \n",
    "bp = ax.boxplot(data, showfliers=False, notch=True, patch_artist = True) \n",
    "\n",
    "colors = ['#FF0000'] \n",
    "   \n",
    "for patch, color in zip(bp['boxes'], colors): \n",
    "    patch.set_facecolor(color) \n",
    "    \n",
    "ax.legend([bp[\"boxes\"][0]], ['Agent 9'])\n",
    "# ax.legend([bp[\"boxes\"][0], bp[\"boxes\"][1]], ['Agent 6', 'Agent 7'])\n",
    "# show plot\n",
    "plt.ylabel('Examination Cost')\n",
    "plt.show() "
   ]
  },
  {
   "cell_type": "code",
   "execution_count": 50,
   "id": "cba75bce",
   "metadata": {},
   "outputs": [
    {
     "data": {
      "text/plain": [
       "<matplotlib.legend.Legend at 0x7fa9192336a0>"
      ]
     },
     "execution_count": 50,
     "metadata": {},
     "output_type": "execute_result"
    },
    {
     "data": {
      "image/png": "[encoded data removed]",
      "text/plain": [
       "<Figure size 432x288 with 1 Axes>"
      ]
     },
     "metadata": {
      "needs_background": "light"
     },
     "output_type": "display_data"
    }
   ],
   "source": [
    "plt.scatter(range(100), agent_6_movement_cost)\n",
    "plt.scatter(range(100), agent_7_movement_cost)\n",
    "plt.scatter(range(100), agent_8_movement_cost)\n",
    "plt.scatter(range(100), agent_9_movement_cost)\n",
    "plt.xlabel('Data Point')\n",
    "plt.ylabel('Movement Cost')\n",
    "plt.legend(['Agent 6', 'Agent 7', 'Agent 8', 'Agent 9'])"
   ]
  },
  {
   "cell_type": "code",
   "execution_count": 52,
   "id": "8fcdec93",
   "metadata": {},
   "outputs": [
    {
     "data": {
      "text/plain": [
       "<AxesSubplot:xlabel='Agent', ylabel='movement_cost'>"
      ]
     },
     "execution_count": 52,
     "metadata": {},
     "output_type": "execute_result"
    },
    {
     "data": {
      "image/png": "[encoded data removed]",
      "text/plain": [
       "<Figure size 432x288 with 1 Axes>"
      ]
     },
     "metadata": {
      "needs_background": "light"
     },
     "output_type": "display_data"
    }
   ],
   "source": [
    "A1 = pd.DataFrame(agent_6_movement_cost, columns=['movement_cost'])\n",
    "A1['Agent'] = \"Agent 6\"\n",
    "A2 = pd.DataFrame(agent_7_movement_cost, columns=['movement_cost'])\n",
    "A2['Agent'] = \"Agent 7\"\n",
    "A3 = pd.DataFrame(agent_8_movement_cost, columns=['movement_cost'])\n",
    "A3['Agent'] = \"Agent 8\"\n",
    "A4 = pd.DataFrame(agent_9_movement_cost, columns=['movement_cost'])\n",
    "A4['Agent'] = \"Agent 9\"\n",
    "data = pd.concat([A1, A2, A3, A4])\n",
    "sns.violinplot(x='Agent',y='movement_cost',data=data, inner=\"box\", palette=\"Set3\", cut=2, linewidth=3)"
   ]
  },
  {
   "cell_type": "code",
   "execution_count": 53,
   "id": "497b4fcb",
   "metadata": {},
   "outputs": [
    {
     "data": {
      "image/png": "[encoded data removed]",
      "text/plain": [
       "<Figure size 720x504 with 1 Axes>"
      ]
     },
     "metadata": {
      "needs_background": "light"
     },
     "output_type": "display_data"
    }
   ],
   "source": [
    "np.random.seed(10) \n",
    "data = [agent_6_movement_cost, agent_7_movement_cost, agent_8_movement_cost, agent_9_movement_cost] \n",
    "   \n",
    "fig = plt.figure(figsize =(10, 7)) \n",
    "   \n",
    "# Creating axes instance \n",
    "ax = fig.add_axes([0, 0, 0.5, 0.5]) \n",
    "   \n",
    "# Creating plot \n",
    "bp = ax.boxplot(data, showfliers=False, notch=True, patch_artist = True) \n",
    "\n",
    "colors = ['#8BF7B5', '#F7F78B', '#D6C6FC', '#FF0000']\n",
    "   \n",
    "for patch, color in zip(bp['boxes'], colors): \n",
    "    patch.set_facecolor(color) \n",
    "    \n",
    "ax.legend([bp[\"boxes\"][0], bp[\"boxes\"][1], bp[\"boxes\"][2], bp[\"boxes\"][3]], ['Agent 6', 'Agent 7', 'Agent 8', 'Agent 9'])\n",
    "# ax.legend([bp[\"boxes\"][0], bp[\"boxes\"][1]], ['Agent 6', 'Agent 7'])\n",
    "# show plot \n",
    "plt.ylabel('Movement Cost')\n",
    "plt.show() \n"
   ]
  },
  {
   "cell_type": "code",
   "execution_count": 58,
   "id": "df647694",
   "metadata": {},
   "outputs": [
    {
     "data": {
      "image/png": "[encoded data removed]",
      "text/plain": [
       "<Figure size 720x504 with 1 Axes>"
      ]
     },
     "metadata": {
      "needs_background": "light"
     },
     "output_type": "display_data"
    }
   ],
   "source": [
    "np.random.seed(10) \n",
    "data = [agent_9_movement_cost] \n",
    "   \n",
    "fig = plt.figure(figsize =(10, 7)) \n",
    "   \n",
    "# Creating axes instance \n",
    "ax = fig.add_axes([0, 0, 0.5, 0.5]) \n",
    "   \n",
    "# Creating plot \n",
    "bp = ax.boxplot(data, showfliers=False, notch=True, patch_artist = True) \n",
    "\n",
    "colors = ['#FF0000'] \n",
    "   \n",
    "for patch, color in zip(bp['boxes'], colors): \n",
    "    patch.set_facecolor(color) \n",
    "    \n",
    "ax.legend([bp[\"boxes\"][0]], ['Agent 9'])\n",
    "# ax.legend([bp[\"boxes\"][0], bp[\"boxes\"][1]], ['Agent 6', 'Agent 7'])\n",
    "# show plot\n",
    "plt.ylabel('Movement Cost')\n",
    "plt.show() "
   ]
  },
  {
   "cell_type": "code",
   "execution_count": 55,
   "id": "87fcedad",
   "metadata": {},
   "outputs": [
    {
     "data": {
      "text/plain": [
       "<matplotlib.legend.Legend at 0x7fa90b2ad880>"
      ]
     },
     "execution_count": 55,
     "metadata": {},
     "output_type": "execute_result"
    },
    {
     "data": {
      "image/png": "[encoded data removed]",
      "text/plain": [
       "<Figure size 432x288 with 1 Axes>"
      ]
     },
     "metadata": {
      "needs_background": "light"
     },
     "output_type": "display_data"
    }
   ],
   "source": [
    "plt.scatter(range(100), agent_6_total_cost)\n",
    "plt.scatter(range(100), agent_7_total_cost)\n",
    "plt.scatter(range(100), agent_8_total_cost)\n",
    "plt.scatter(range(100), agent_9_total_cost)\n",
    "plt.xlabel('Data Point')\n",
    "plt.ylabel('Total Cost')\n",
    "plt.legend(['Agent 6', 'Agent 7', 'Agent 8', 'Agent 9'])"
   ]
  },
  {
   "cell_type": "code",
   "execution_count": 72,
   "id": "92235d35",
   "metadata": {},
   "outputs": [
    {
     "data": {
      "text/plain": [
       "<AxesSubplot:xlabel='Agent', ylabel='total_cost'>"
      ]
     },
     "execution_count": 72,
     "metadata": {},
     "output_type": "execute_result"
    },
    {
     "data": {
      "image/png": "[encoded data removed]",
      "text/plain": [
       "<Figure size 432x288 with 1 Axes>"
      ]
     },
     "metadata": {
      "needs_background": "light"
     },
     "output_type": "display_data"
    }
   ],
   "source": [
    "A1 = pd.DataFrame(agent_6_total_cost, columns=['total_cost'])\n",
    "A1['Agent'] = \"Agent 6\"\n",
    "A2 = pd.DataFrame(agent_7_total_cost, columns=['total_cost'])\n",
    "A2['Agent'] = \"Agent 7\"\n",
    "A3 = pd.DataFrame(agent_8_total_cost, columns=['total_cost'])\n",
    "A3['Agent'] = \"Agent 8\"\n",
    "data = pd.concat([A1, A2, A3])\n",
    "sns.violinplot(x='Agent',y='total_cost',data=data, inner=\"box\", palette=\"Set3\", cut=2, linewidth=3)"
   ]
  },
  {
   "cell_type": "code",
   "execution_count": 56,
   "id": "d31cac32",
   "metadata": {},
   "outputs": [
    {
     "data": {
      "image/png": "[encoded data removed]",
      "text/plain": [
       "<Figure size 720x504 with 1 Axes>"
      ]
     },
     "metadata": {
      "needs_background": "light"
     },
     "output_type": "display_data"
    }
   ],
   "source": [
    "np.random.seed(10) \n",
    "data = [agent_6_total_cost, agent_7_total_cost, agent_8_total_cost, agent_9_total_cost] \n",
    "   \n",
    "fig = plt.figure(figsize =(10, 7)) \n",
    "   \n",
    "# Creating axes instance \n",
    "ax = fig.add_axes([0, 0, 0.5, 0.5]) \n",
    "   \n",
    "# Creating plot \n",
    "bp = ax.boxplot(data, showfliers=False, notch=True, patch_artist = True) \n",
    "\n",
    "colors = ['#8BF7B5', '#F7F78B', '#D6C6FC', '#FF0000']\n",
    "   \n",
    "for patch, color in zip(bp['boxes'], colors): \n",
    "    patch.set_facecolor(color) \n",
    "    \n",
    "ax.legend([bp[\"boxes\"][0], bp[\"boxes\"][1], bp[\"boxes\"][2], bp[\"boxes\"][3]], ['Agent 6', 'Agent 7', 'Agent 8', 'Agent 9'])\n",
    "# ax.legend([bp[\"boxes\"][0], bp[\"boxes\"][1]], ['Agent 6', 'Agent 7'])\n",
    "# show plot \n",
    "plt.ylabel('Total Cost')\n",
    "plt.show() \n"
   ]
  },
  {
   "cell_type": "code",
   "execution_count": 59,
   "id": "4f72f581",
   "metadata": {},
   "outputs": [
    {
     "data": {
      "image/png": "[encoded data removed]",
      "text/plain": [
       "<Figure size 720x504 with 1 Axes>"
      ]
     },
     "metadata": {
      "needs_background": "light"
     },
     "output_type": "display_data"
    }
   ],
   "source": [
    "np.random.seed(10) \n",
    "data = [agent_9_total_cost] \n",
    "   \n",
    "fig = plt.figure(figsize =(10, 7)) \n",
    "   \n",
    "# Creating axes instance \n",
    "ax = fig.add_axes([0, 0, 0.5, 0.5]) \n",
    "   \n",
    "# Creating plot \n",
    "bp = ax.boxplot(data, showfliers=False, notch=True, patch_artist = True) \n",
    "\n",
    "colors = ['#FF0000'] \n",
    "   \n",
    "for patch, color in zip(bp['boxes'], colors): \n",
    "    patch.set_facecolor(color) \n",
    "    \n",
    "ax.legend([bp[\"boxes\"][0]], ['Agent 9'])\n",
    "# ax.legend([bp[\"boxes\"][0], bp[\"boxes\"][1]], ['Agent 6', 'Agent 7'])\n",
    "# show plot\n",
    "plt.ylabel('Total Cost')\n",
    "plt.show() "
   ]
  },
  {
   "cell_type": "code",
   "execution_count": 61,
   "id": "b4ac4dd5",
   "metadata": {},
   "outputs": [
    {
     "data": {
      "text/plain": [
       "Text(0.5, 1.0, 'Density plot for movement cost/examination cost')"
      ]
     },
     "execution_count": 61,
     "metadata": {},
     "output_type": "execute_result"
    },
    {
     "data": {
      "image/png": "[encoded data removed]",
      "text/plain": [
       "<Figure size 432x288 with 1 Axes>"
      ]
     },
     "metadata": {
      "needs_background": "light"
     },
     "output_type": "display_data"
    }
   ],
   "source": [
    "sns.kdeplot([i/j for i,j in zip(agent_6_movement_cost,agent_6_examine_cost)])\n",
    "sns.kdeplot([i/j for i,j in zip(agent_7_movement_cost,agent_7_examine_cost)])\n",
    "# sns.kdeplot([i/j for i,j in zip(agent_8_movement_cost,agent_8_examine_cost)])\n",
    "plt.legend(['Agent 6', 'Agent 7'])\n",
    "plt.title('Density plot for movement cost/examination cost')"
   ]
  },
  {
   "cell_type": "code",
   "execution_count": 62,
   "id": "bbacad17",
   "metadata": {},
   "outputs": [
    {
     "data": {
      "text/plain": [
       "Text(0.5, 1.0, 'Density plot for movement cost')"
      ]
     },
     "execution_count": 62,
     "metadata": {},
     "output_type": "execute_result"
    },
    {
     "data": {
      "image/png": "[encoded data removed]",
      "text/plain": [
       "<Figure size 432x288 with 1 Axes>"
      ]
     },
     "metadata": {
      "needs_background": "light"
     },
     "output_type": "display_data"
    }
   ],
   "source": [
    "sns.kdeplot(agent_6_movement_cost)\n",
    "sns.kdeplot(agent_7_movement_cost)\n",
    "# sns.kdeplot(agent_8_movement_cost)\n",
    "plt.legend(['Agent 6', 'Agent 7'])#, 'Agent 8'])\n",
    "plt.title('Density plot for movement cost')"
   ]
  },
  {
   "cell_type": "code",
   "execution_count": 64,
   "id": "14c6ac26",
   "metadata": {},
   "outputs": [
    {
     "data": {
      "text/plain": [
       "Text(0.5, 1.0, 'Density plot for examination cost')"
      ]
     },
     "execution_count": 64,
     "metadata": {},
     "output_type": "execute_result"
    },
    {
     "data": {
      "image/png": "[encoded data removed]",
      "text/plain": [
       "<Figure size 432x288 with 1 Axes>"
      ]
     },
     "metadata": {
      "needs_background": "light"
     },
     "output_type": "display_data"
    }
   ],
   "source": [
    "sns.kdeplot(agent_6_examine_cost)\n",
    "sns.kdeplot(agent_7_examine_cost)\n",
    "# sns.kdeplot(agent_8_examine_cost)\n",
    "plt.legend(['Agent 6', 'Agent 7'])#, 'Agent 8'])\n",
    "plt.title('Density plot for examination cost')"
   ]
  },
  {
   "cell_type": "code",
   "execution_count": null,
   "id": "1a2127c0",
   "metadata": {},
   "outputs": [],
   "source": []
  }
 ],
 "metadata": {
  "kernelspec": {
   "display_name": "Python 3",
   "language": "python",
   "name": "python3"
  },
  "language_info": {
   "codemirror_mode": {
    "name": "ipython",
    "version": 3
   },
   "file_extension": ".py",
   "mimetype": "text/x-python",
   "name": "python",
   "nbconvert_exporter": "python",
   "pygments_lexer": "ipython3",
   "version": "3.8.8"
  }
 },
 "nbformat": 4,
 "nbformat_minor": 5
}
